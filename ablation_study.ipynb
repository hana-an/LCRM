{
  "cells": [
    {
      "attachments": {},
      "cell_type": "markdown",
      "metadata": {
        "id": "TXvsTBVqdTw4"
      },
      "source": [
        "**# Ablation cases: 4**"
      ]
    },
    {
      "cell_type": "code",
      "execution_count": null,
      "metadata": {
        "colab": {
          "base_uri": "https://localhost:8080/"
        },
        "id": "Wr0WjCdudCFE",
        "outputId": "d4896563-2c37-4456-f1fd-56d0b524526a"
      },
      "outputs": [
        {
          "name": "stdout",
          "output_type": "stream",
          "text": [
            "Looking in indexes: https://pypi.org/simple, https://us-python.pkg.dev/colab-wheels/public/simple/\n",
            "Collecting tensorboard_plugin_profile\n",
            "  Downloading tensorboard_plugin_profile-2.11.2-py3-none-any.whl (5.4 MB)\n",
            "\u001b[2K     \u001b[90m━━━━━━━━━━━━━━━━━━━━━━━━━━━━━━━━━━━━━━━━\u001b[0m \u001b[32m5.4/5.4 MB\u001b[0m \u001b[31m40.5 MB/s\u001b[0m eta \u001b[36m0:00:00\u001b[0m\n",
            "\u001b[?25hCollecting gviz-api>=1.9.0\n",
            "  Downloading gviz_api-1.10.0-py2.py3-none-any.whl (13 kB)\n",
            "Requirement already satisfied: protobuf>=3.12.0 in /usr/local/lib/python3.9/dist-packages (from tensorboard_plugin_profile) (3.19.6)\n",
            "Requirement already satisfied: werkzeug>=0.11.15 in /usr/local/lib/python3.9/dist-packages (from tensorboard_plugin_profile) (2.2.3)\n",
            "Requirement already satisfied: six>=1.10.0 in /usr/local/lib/python3.9/dist-packages (from tensorboard_plugin_profile) (1.16.0)\n",
            "Requirement already satisfied: setuptools>=41.0.0 in /usr/local/lib/python3.9/dist-packages (from tensorboard_plugin_profile) (67.6.0)\n",
            "Requirement already satisfied: MarkupSafe>=2.1.1 in /usr/local/lib/python3.9/dist-packages (from werkzeug>=0.11.15->tensorboard_plugin_profile) (2.1.2)\n",
            "Installing collected packages: gviz-api, tensorboard_plugin_profile\n",
            "Successfully installed gviz-api-1.10.0 tensorboard_plugin_profile-2.11.2\n",
            "Downloading and preparing dataset Unknown size (download: Unknown size, generated: Unknown size, total: Unknown size) to /root/tensorflow_datasets/cifar10/3.0.2...\n",
            "Dataset cifar10 downloaded and prepared to /root/tensorflow_datasets/cifar10/3.0.2. Subsequent calls will reuse this data.\n",
            "<PrefetchDataset element_spec=(TensorSpec(shape=(32, 32, 3), dtype=tf.uint8, name=None), TensorSpec(shape=(), dtype=tf.int64, name=None))>\n",
            "<PrefetchDataset element_spec=(TensorSpec(shape=(32, 32, 3), dtype=tf.uint8, name=None), TensorSpec(shape=(), dtype=tf.int64, name=None))>\n",
            "<MapDataset element_spec=(TensorSpec(shape=(32, 32, 3), dtype=tf.float32, name=None), TensorSpec(shape=(), dtype=tf.int64, name=None))>\n",
            "<MapDataset element_spec=(TensorSpec(shape=(224, 224, 3), dtype=tf.float32, name=None), TensorSpec(shape=(), dtype=tf.int64, name=None))>\n",
            "128\n"
          ]
        }
      ],
      "source": [
        "!pip install -U tensorboard_plugin_profile\n",
        "%load_ext tensorboard\n",
        "from datetime import datetime\n",
        "from packaging import version\n",
        "import tensorflow as tf\n",
        "import tensorflow_datasets as tfds\n",
        "import os,time\n",
        "import numpy as np\n",
        "os.environ['TF_CPP_MIN_LOG_LEVEL'] = '2'\n",
        "from tensorflow import keras\n",
        "from tensorflow.keras import datasets, layers, models\n",
        "from tensorflow.keras.callbacks import TensorBoard\n",
        "\n",
        "tfds.disable_progress_bar()\n",
        "\n",
        "(ds_train, ds_test), ds_info = tfds.load(\n",
        "    'cifar10',\n",
        "    split=['train', 'test'],\n",
        "    shuffle_files=True,\n",
        "    as_supervised=True,\n",
        "    with_info=True,\n",
        ")\n",
        "print(ds_test)\n",
        "print(ds_train)\n",
        "\n",
        "def normalize_img(image, label):\n",
        "  \"\"\"Normalizes images: `uint8` -> `float32`.\"\"\"\n",
        "  return tf.cast(image, tf.float32) / 255., label\n",
        "\n",
        "\n",
        "def process_images(image, label):\n",
        "    \n",
        "    image = tf.image.resize(image, (224,224))\n",
        "    return image, label\n",
        "\n",
        "ds_train = ds_train.map(normalize_img)\n",
        "print(ds_train)\n",
        "ds_train = ds_train.map(process_images)\n",
        "print(ds_train)\n",
        "\n",
        "\n",
        "ds_test = ds_test.map(normalize_img)\n",
        "ds_test = ds_test.map(process_images)\n",
        "nclass=10 #10forcifar10\n",
        "\n",
        "batchsize = [128,\n",
        "#16,\n",
        "#32,\n",
        "#64,\n",
        "#128\n",
        "]\n",
        "for bs in batchsize:\n",
        "  ds_train = ds_train.batch(bs)\n",
        "  ds_test = ds_test.batch(bs)\n",
        "  print(bs)"
      ]
    },
    {
      "cell_type": "code",
      "execution_count": null,
      "metadata": {
        "id": "P4KW6iv-ddhd"
      },
      "outputs": [],
      "source": [
        "#tensorboard = TensorBoard(os.path.join('energylog',f'{batchsize}_{time.time()}'))\n",
        "from datetime import datetime\n",
        "from packaging import version\n",
        "\n",
        "import os\n",
        "# Create a TensorBoard callback\n",
        "logs = \"alexLCRM-drPcase1.1\" + datetime.now().strftime(\"%Y%m%d-%H%M%S\")\n",
        "\n",
        "tensorboard = tf.keras.callbacks.TensorBoard(log_dir = logs,\n",
        "                                                 histogram_freq = 1,\n",
        "                                                 profile_batch = '10,20')"
      ]
    },
    {
      "cell_type": "code",
      "execution_count": null,
      "metadata": {
        "id": "whlkhUcmic1x"
      },
      "outputs": [],
      "source": [
        "64 256 384 384 256"
      ]
    },
    {
      "cell_type": "markdown",
      "metadata": {
        "id": "MSgr-fgUI7uf"
      },
      "source": [
        "# **case 1.1**"
      ]
    },
    {
      "cell_type": "code",
      "execution_count": null,
      "metadata": {
        "colab": {
          "base_uri": "https://localhost:8080/"
        },
        "id": "ZloEO6Eqd3Nf",
        "outputId": "c91fe75c-ab42-4349-b54d-f3efb3e29f5c"
      },
      "outputs": [
        {
          "name": "stdout",
          "output_type": "stream",
          "text": [
            "Epoch 1/31\n",
            "391/391 [==============================] - 65s 116ms/step - loss: 1.8257 - accuracy: 0.3374 - val_loss: 2.4234 - val_accuracy: 0.1060\n",
            "Epoch 2/31\n",
            "391/391 [==============================] - 36s 92ms/step - loss: 1.4217 - accuracy: 0.4830 - val_loss: 1.3958 - val_accuracy: 0.5069\n",
            "Epoch 3/31\n",
            "391/391 [==============================] - 35s 91ms/step - loss: 1.2442 - accuracy: 0.5560 - val_loss: 1.2129 - val_accuracy: 0.5710\n",
            "Epoch 4/31\n",
            "391/391 [==============================] - 35s 89ms/step - loss: 1.1139 - accuracy: 0.6036 - val_loss: 1.5875 - val_accuracy: 0.5146\n",
            "Epoch 5/31\n",
            "391/391 [==============================] - 35s 88ms/step - loss: 1.0135 - accuracy: 0.6426 - val_loss: 1.6201 - val_accuracy: 0.5292\n",
            "Epoch 6/31\n",
            "391/391 [==============================] - 36s 91ms/step - loss: 0.9328 - accuracy: 0.6732 - val_loss: 1.3965 - val_accuracy: 0.5885\n",
            "Epoch 7/31\n",
            "391/391 [==============================] - 35s 90ms/step - loss: 0.8705 - accuracy: 0.6972 - val_loss: 1.2325 - val_accuracy: 0.6117\n",
            "Epoch 8/31\n",
            "391/391 [==============================] - 35s 89ms/step - loss: 0.8166 - accuracy: 0.7163 - val_loss: 0.9693 - val_accuracy: 0.6771\n",
            "Epoch 9/31\n",
            "391/391 [==============================] - 35s 90ms/step - loss: 0.7645 - accuracy: 0.7358 - val_loss: 1.2920 - val_accuracy: 0.6142\n",
            "Epoch 10/31\n",
            "391/391 [==============================] - 35s 91ms/step - loss: 0.7197 - accuracy: 0.7488 - val_loss: 0.8753 - val_accuracy: 0.6999\n",
            "Epoch 11/31\n",
            "391/391 [==============================] - 35s 90ms/step - loss: 0.6752 - accuracy: 0.7647 - val_loss: 1.1895 - val_accuracy: 0.6390\n",
            "Epoch 12/31\n",
            "391/391 [==============================] - 36s 92ms/step - loss: 0.6450 - accuracy: 0.7758 - val_loss: 0.9606 - val_accuracy: 0.6886\n",
            "Epoch 13/31\n",
            "391/391 [==============================] - 34s 87ms/step - loss: 0.6103 - accuracy: 0.7884 - val_loss: 1.3340 - val_accuracy: 0.6239\n",
            "Epoch 14/31\n",
            "391/391 [==============================] - 36s 91ms/step - loss: 0.5748 - accuracy: 0.8006 - val_loss: 0.8602 - val_accuracy: 0.7139\n",
            "Epoch 15/31\n",
            "391/391 [==============================] - 35s 90ms/step - loss: 0.5466 - accuracy: 0.8086 - val_loss: 1.1207 - val_accuracy: 0.6696\n",
            "Epoch 16/31\n",
            "391/391 [==============================] - 35s 89ms/step - loss: 0.5218 - accuracy: 0.8183 - val_loss: 0.9351 - val_accuracy: 0.7069\n",
            "Epoch 17/31\n",
            "391/391 [==============================] - 35s 90ms/step - loss: 0.4903 - accuracy: 0.8294 - val_loss: 0.8049 - val_accuracy: 0.7394\n",
            "Epoch 18/31\n",
            "391/391 [==============================] - 35s 88ms/step - loss: 0.4718 - accuracy: 0.8343 - val_loss: 1.2096 - val_accuracy: 0.6655\n",
            "Epoch 19/31\n",
            "391/391 [==============================] - 35s 91ms/step - loss: 0.4445 - accuracy: 0.8450 - val_loss: 1.1027 - val_accuracy: 0.6904\n",
            "Epoch 20/31\n",
            "391/391 [==============================] - 36s 93ms/step - loss: 0.4255 - accuracy: 0.8497 - val_loss: 1.0706 - val_accuracy: 0.6993\n",
            "Epoch 21/31\n",
            "391/391 [==============================] - 36s 92ms/step - loss: 0.4032 - accuracy: 0.8585 - val_loss: 0.7597 - val_accuracy: 0.7649\n",
            "Epoch 22/31\n",
            "391/391 [==============================] - 36s 91ms/step - loss: 0.3814 - accuracy: 0.8649 - val_loss: 1.5622 - val_accuracy: 0.6457\n",
            "Epoch 23/31\n",
            "391/391 [==============================] - 35s 90ms/step - loss: 0.3604 - accuracy: 0.8712 - val_loss: 2.4165 - val_accuracy: 0.5532\n",
            "Epoch 24/31\n",
            "391/391 [==============================] - 34s 88ms/step - loss: 0.3474 - accuracy: 0.8783 - val_loss: 1.0811 - val_accuracy: 0.7180\n",
            "Epoch 25/31\n",
            "391/391 [==============================] - 36s 91ms/step - loss: 0.3311 - accuracy: 0.8825 - val_loss: 1.0187 - val_accuracy: 0.7304\n",
            "Epoch 26/31\n",
            "391/391 [==============================] - 35s 90ms/step - loss: 0.3136 - accuracy: 0.8890 - val_loss: 1.3082 - val_accuracy: 0.6845\n",
            "Epoch 27/31\n",
            "391/391 [==============================] - 36s 92ms/step - loss: 0.3010 - accuracy: 0.8941 - val_loss: 1.0773 - val_accuracy: 0.7212\n",
            "Epoch 28/31\n",
            "391/391 [==============================] - 36s 91ms/step - loss: 0.2841 - accuracy: 0.8979 - val_loss: 0.8681 - val_accuracy: 0.7603\n",
            "Epoch 29/31\n",
            "391/391 [==============================] - 37s 93ms/step - loss: 0.2719 - accuracy: 0.9037 - val_loss: 0.9265 - val_accuracy: 0.7522\n",
            "Epoch 30/31\n",
            "391/391 [==============================] - 35s 89ms/step - loss: 0.2552 - accuracy: 0.9083 - val_loss: 0.8992 - val_accuracy: 0.7656\n",
            "Epoch 31/31\n",
            "391/391 [==============================] - 36s 91ms/step - loss: 0.2557 - accuracy: 0.9097 - val_loss: 1.2666 - val_accuracy: 0.7083\n",
            "79/79 - 4s - loss: 1.2666 - accuracy: 0.7083 - 4s/epoch - 48ms/step\n"
          ]
        }
      ],
      "source": [
        "#Nanonet base model obtained after applying LCRM ON AlexNet algorithm\n",
        "nclasses=100\n",
        "#nclasses =1000\n",
        "def my_model2():\n",
        "    #entry flow\n",
        "    input = keras.Input(shape=(224,224,3))\n",
        "    x = layers.Conv2D(64,kernel_size=11,strides=(4,4))(input)\n",
        "    x = layers.BatchNormalization()(x)\n",
        "    x= layers.Activation('relu')(x)\n",
        "    x = layers.MaxPool2D(pool_size=(3,3), strides = (2,2))(x)\n",
        "    \n",
        "    #  removed  UPSCALING 1.1:\n",
        "    #x = layers.DepthwiseConv2D(depth_multiplier=4,kernel_size=5,strides=(1,1),padding='same')(x)\n",
        "    \n",
        "    x = layers.Conv2D(filters=256, kernel_size=(5,5), strides=(1,1), padding=\"same\")(x)\n",
        "    x = layers.BatchNormalization()(x)\n",
        "    x= layers.Activation('relu')(x)\n",
        "    x1 = layers.MaxPool2D(pool_size=(3,3), strides = (2,2))(x)\n",
        "\n",
        "      #middle loop\n",
        "    x = layers.DepthwiseConv2D(depth_multiplier=1,kernel_size=3,strides=(1,1),padding='same')(x1)\n",
        "    x = layers.BatchNormalization()(x)\n",
        "    x2= layers.Activation('relu')(x)\n",
        "\n",
        "    x = layers.Conv2D(128,kernel_size=1,strides=(1,1),padding='same')(x1)\n",
        "    x = layers.BatchNormalization()(x)\n",
        "    x3= layers.Activation('relu')(x)\n",
        "    x = layers.Concatenate()([x2,x3])\n",
        "\n",
        "    x = layers.DepthwiseConv2D(depth_multiplier=1,kernel_size=3,strides=(1,1),padding='same')(x)\n",
        "    x = layers.BatchNormalization()(x)\n",
        "    x= layers.Activation('relu')(x)\n",
        "    \n",
        "    #Exit flow\n",
        "    x = layers.Conv2D(256,kernel_size=1,strides=(1,1),padding='same')(x)\n",
        "    x = layers.BatchNormalization()(x)\n",
        "    x= layers.Activation('relu')(x)\n",
        "    x = layers.MaxPool2D(pool_size=(3,3), strides = (2,2))(x)\n",
        "\n",
        "    x=keras.layers.Flatten()(x)\n",
        "    x=keras.layers.Dense(1024, activation='relu')(x)\n",
        "    x= keras.layers.Dropout(0.5)(x)\n",
        "\n",
        "    x= keras.layers.Dense(1024, activation='relu')(x)\n",
        "    x= keras.layers.Dropout(0.5)(x)\n",
        "    output = keras.layers.Dense(10, activation='softmax')(x)\n",
        "    model = keras.Model(input, output)\n",
        "    return model\n",
        "\n",
        "model2=my_model2()\n",
        "model2.compile(optimizer=tf.keras.optimizers.Adam(0.0001), loss='sparse_categorical_crossentropy', metrics=['accuracy'])\n",
        "  #tensorboard = TensorBoard(os.path.join('energylog',f'{batchsize}_{time.time()}'))\n",
        "  #@measure_energy(handler=csv_handler, domains=[NvidiaGPUDomain(0)])\n",
        "  #@measure_energy(handler=csv_handler,domains=[RaplPackageDomain(1), NvidiaGPUDomain(0),RaplDramDomain(0)])\n",
        "  #def foo():\n",
        "model2.fit(ds_train,  epochs=31, validation_data=ds_test, callbacks = [tensorboard])\n",
        "  #for _ in range(1):\n",
        "   #   foo()\n",
        "  #..\n",
        "#model.fit(ds_train,  epochs=10, validation_data=ds_test)\n",
        "test_loss, test_acc = model2.evaluate(ds_test, verbose=2)\n",
        "\n",
        "\n"
      ]
    },
    {
      "cell_type": "markdown",
      "metadata": {
        "id": "-WyXcOedI1q_"
      },
      "source": [
        "## **case 1.2**"
      ]
    },
    {
      "cell_type": "code",
      "execution_count": null,
      "metadata": {
        "id": "rmM5kwQKzETe"
      },
      "outputs": [],
      "source": [
        "#tensorboard = TensorBoard(os.path.join('energylog',f'{batchsize}_{time.time()}'))\n",
        "from datetime import datetime\n",
        "from packaging import version\n",
        "\n",
        "import os\n",
        "# Create a TensorBoard callback\n",
        "logs = \"alexLCRM-drPcase1.2\" + datetime.now().strftime(\"%Y%m%d-%H%M%S\")\n",
        "\n",
        "tensorboard = tf.keras.callbacks.TensorBoard(log_dir = logs,\n",
        "                                                 histogram_freq = 1,\n",
        "                                                 profile_batch = '10,20')"
      ]
    },
    {
      "cell_type": "code",
      "execution_count": null,
      "metadata": {
        "colab": {
          "base_uri": "https://localhost:8080/"
        },
        "id": "TpKWgKeZJBkt",
        "outputId": "484c78aa-197b-4d0e-9120-c8a3da0e097c"
      },
      "outputs": [
        {
          "name": "stdout",
          "output_type": "stream",
          "text": [
            "Epoch 1/31\n",
            "391/391 [==============================] - 53s 120ms/step - loss: 1.6830 - accuracy: 0.3944 - val_loss: 2.4380 - val_accuracy: 0.1719\n",
            "Epoch 2/31\n",
            "391/391 [==============================] - 43s 109ms/step - loss: 1.2181 - accuracy: 0.5671 - val_loss: 1.2543 - val_accuracy: 0.5568\n",
            "Epoch 3/31\n",
            "391/391 [==============================] - 42s 107ms/step - loss: 1.0179 - accuracy: 0.6444 - val_loss: 1.1960 - val_accuracy: 0.5754\n",
            "Epoch 4/31\n",
            "391/391 [==============================] - 41s 105ms/step - loss: 0.8845 - accuracy: 0.6938 - val_loss: 0.9461 - val_accuracy: 0.6747\n",
            "Epoch 5/31\n",
            "391/391 [==============================] - 42s 106ms/step - loss: 0.7825 - accuracy: 0.7304 - val_loss: 0.8991 - val_accuracy: 0.6867\n",
            "Epoch 6/31\n",
            "391/391 [==============================] - 42s 107ms/step - loss: 0.6986 - accuracy: 0.7588 - val_loss: 0.9214 - val_accuracy: 0.6917\n",
            "Epoch 7/31\n",
            "391/391 [==============================] - 42s 108ms/step - loss: 0.6311 - accuracy: 0.7831 - val_loss: 0.8073 - val_accuracy: 0.7280\n",
            "Epoch 8/31\n",
            "391/391 [==============================] - 41s 105ms/step - loss: 0.5656 - accuracy: 0.8058 - val_loss: 0.7515 - val_accuracy: 0.7545\n",
            "Epoch 9/31\n",
            "391/391 [==============================] - 42s 106ms/step - loss: 0.5031 - accuracy: 0.8257 - val_loss: 0.7504 - val_accuracy: 0.7580\n",
            "Epoch 10/31\n",
            "391/391 [==============================] - 43s 110ms/step - loss: 0.4491 - accuracy: 0.8430 - val_loss: 0.9605 - val_accuracy: 0.7157\n",
            "Epoch 11/31\n",
            "391/391 [==============================] - 43s 110ms/step - loss: 0.4000 - accuracy: 0.8628 - val_loss: 0.8360 - val_accuracy: 0.7479\n",
            "Epoch 12/31\n",
            "391/391 [==============================] - 43s 109ms/step - loss: 0.3588 - accuracy: 0.8758 - val_loss: 0.7217 - val_accuracy: 0.7703\n",
            "Epoch 13/31\n",
            "391/391 [==============================] - 43s 110ms/step - loss: 0.3203 - accuracy: 0.8892 - val_loss: 0.8578 - val_accuracy: 0.7561\n",
            "Epoch 14/31\n",
            "391/391 [==============================] - 43s 109ms/step - loss: 0.2798 - accuracy: 0.9041 - val_loss: 0.9058 - val_accuracy: 0.7619\n",
            "Epoch 15/31\n",
            "391/391 [==============================] - 44s 111ms/step - loss: 0.2591 - accuracy: 0.9100 - val_loss: 1.2024 - val_accuracy: 0.7127\n",
            "Epoch 16/31\n",
            "391/391 [==============================] - 43s 110ms/step - loss: 0.2254 - accuracy: 0.9215 - val_loss: 0.9379 - val_accuracy: 0.7678\n",
            "Epoch 17/31\n",
            "391/391 [==============================] - 41s 106ms/step - loss: 0.2011 - accuracy: 0.9308 - val_loss: 1.0267 - val_accuracy: 0.7493\n",
            "Epoch 18/31\n",
            "391/391 [==============================] - 43s 109ms/step - loss: 0.1853 - accuracy: 0.9358 - val_loss: 1.0515 - val_accuracy: 0.7439\n",
            "Epoch 19/31\n",
            "391/391 [==============================] - 41s 106ms/step - loss: 0.1714 - accuracy: 0.9420 - val_loss: 1.1692 - val_accuracy: 0.7387\n",
            "Epoch 20/31\n",
            "391/391 [==============================] - 43s 110ms/step - loss: 0.1589 - accuracy: 0.9453 - val_loss: 1.2118 - val_accuracy: 0.7356\n",
            "Epoch 21/31\n",
            "391/391 [==============================] - 42s 108ms/step - loss: 0.1442 - accuracy: 0.9504 - val_loss: 1.1207 - val_accuracy: 0.7488\n",
            "Epoch 22/31\n",
            "391/391 [==============================] - 44s 112ms/step - loss: 0.1378 - accuracy: 0.9534 - val_loss: 1.1030 - val_accuracy: 0.7460\n",
            "Epoch 23/31\n",
            "391/391 [==============================] - 43s 110ms/step - loss: 0.1225 - accuracy: 0.9579 - val_loss: 1.0556 - val_accuracy: 0.7643\n",
            "Epoch 24/31\n",
            "391/391 [==============================] - 42s 106ms/step - loss: 0.1153 - accuracy: 0.9614 - val_loss: 1.2200 - val_accuracy: 0.7494\n",
            "Epoch 25/31\n",
            "391/391 [==============================] - 43s 110ms/step - loss: 0.1003 - accuracy: 0.9658 - val_loss: 1.0424 - val_accuracy: 0.7731\n",
            "Epoch 26/31\n",
            "391/391 [==============================] - 42s 108ms/step - loss: 0.0975 - accuracy: 0.9666 - val_loss: 1.2676 - val_accuracy: 0.7302\n",
            "Epoch 27/31\n",
            "391/391 [==============================] - 42s 108ms/step - loss: 0.0896 - accuracy: 0.9697 - val_loss: 1.0615 - val_accuracy: 0.7730\n",
            "Epoch 28/31\n",
            "391/391 [==============================] - 43s 109ms/step - loss: 0.0814 - accuracy: 0.9731 - val_loss: 0.9997 - val_accuracy: 0.7838\n",
            "Epoch 29/31\n",
            "391/391 [==============================] - 43s 109ms/step - loss: 0.0796 - accuracy: 0.9740 - val_loss: 1.1585 - val_accuracy: 0.7596\n",
            "Epoch 30/31\n",
            "391/391 [==============================] - 41s 105ms/step - loss: 0.0702 - accuracy: 0.9767 - val_loss: 1.2612 - val_accuracy: 0.7417\n",
            "Epoch 31/31\n",
            "391/391 [==============================] - 42s 108ms/step - loss: 0.0730 - accuracy: 0.9768 - val_loss: 1.0558 - val_accuracy: 0.7757\n",
            "79/79 - 5s - loss: 1.0558 - accuracy: 0.7757 - 5s/epoch - 63ms/step\n"
          ]
        }
      ],
      "source": [
        "#Nanonet base model obtained after applying LCRM ON AlexNet algorithm\n",
        "nclasses=100\n",
        "#nclasses =1000\n",
        "def my_model3():\n",
        "    #entry flow\n",
        "    input = keras.Input(shape=(224,224,3))\n",
        "    x = layers.Conv2D(64,kernel_size=11,strides=(4,4))(input)\n",
        "    x = layers.BatchNormalization()(x)\n",
        "    x= layers.Activation('relu')(x)\n",
        "    x = layers.MaxPool2D(pool_size=(3,3), strides = (2,2))(x)\n",
        "    \n",
        "    \n",
        "    x = layers.DepthwiseConv2D(depth_multiplier=4,kernel_size=5,strides=(1,1),padding='same')(x)\n",
        "    #x = layers.Conv2D(filters=256, kernel_size=(5,5), strides=(1,1), padding=\"same\")(x)\n",
        "    x = layers.BatchNormalization()(x)\n",
        "    x= layers.Activation('relu')(x)\n",
        "    x = layers.MaxPool2D(pool_size=(3,3), strides = (2,2))(x)\n",
        "\n",
        "      #middle loop\n",
        "    x = layers.Conv2D(filters=384, kernel_size=(5,5), strides=(1,1), padding=\"same\")(x)\n",
        "    \n",
        "    #REMOVED UPSACLING CASE 1.2\n",
        "\n",
        "    x = layers.DepthwiseConv2D(depth_multiplier=1,kernel_size=3,strides=(1,1),padding='same')(x)\n",
        "    x = layers.BatchNormalization()(x)\n",
        "    x= layers.Activation('relu')(x)\n",
        "    \n",
        "    #Exit flow\n",
        "    x = layers.Conv2D(256,kernel_size=1,strides=(1,1),padding='same')(x)\n",
        "    x = layers.BatchNormalization()(x)\n",
        "    x= layers.Activation('relu')(x)\n",
        "    x = layers.MaxPool2D(pool_size=(3,3), strides = (2,2))(x)\n",
        "\n",
        "    x=keras.layers.Flatten()(x)\n",
        "    x=keras.layers.Dense(1024, activation='relu')(x)\n",
        "    x= keras.layers.Dropout(0.5)(x)\n",
        "\n",
        "    x= keras.layers.Dense(1024, activation='relu')(x)\n",
        "    x= keras.layers.Dropout(0.5)(x)\n",
        "    output = keras.layers.Dense(10, activation='softmax')(x)\n",
        "    model = keras.Model(input, output)\n",
        "    return model\n",
        "\n",
        "model3=my_model3()\n",
        "model3.compile(optimizer=tf.keras.optimizers.Adam(0.0001), loss='sparse_categorical_crossentropy', metrics=['accuracy'])\n",
        "  #tensorboard = TensorBoard(os.path.join('energylog',f'{batchsize}_{time.time()}'))\n",
        "  #@measure_energy(handler=csv_handler, domains=[NvidiaGPUDomain(0)])\n",
        "  #@measure_energy(handler=csv_handler,domains=[RaplPackageDomain(1), NvidiaGPUDomain(0),RaplDramDomain(0)])\n",
        "  #def foo():\n",
        "model3.fit(ds_train,  epochs=31, validation_data=ds_test, callbacks = [tensorboard])\n",
        "  #for _ in range(1):\n",
        "   #   foo()\n",
        "  #..\n",
        "#model.fit(ds_train,  epochs=10, validation_data=ds_test)\n",
        "test_loss, test_acc = model3.evaluate(ds_test, verbose=2)\n",
        "\n",
        "\n"
      ]
    },
    {
      "cell_type": "markdown",
      "metadata": {
        "id": "MG1dSkJjrKFg"
      },
      "source": [
        "# **case 2 : no scaling**"
      ]
    },
    {
      "cell_type": "code",
      "execution_count": null,
      "metadata": {
        "id": "9UY5zSpczGxR"
      },
      "outputs": [],
      "source": [
        "#tensorboard = TensorBoard(os.path.join('energylog',f'{batchsize}_{time.time()}'))\n",
        "from datetime import datetime\n",
        "from packaging import version\n",
        "\n",
        "import os\n",
        "# Create a TensorBoard callback\n",
        "logs = \"alexLCRM-drPcase2\" + datetime.now().strftime(\"%Y%m%d-%H%M%S\")\n",
        "\n",
        "tensorboard = tf.keras.callbacks.TensorBoard(log_dir = logs,\n",
        "                                                 histogram_freq = 1,\n",
        "                                                 profile_batch = '10,20')"
      ]
    },
    {
      "cell_type": "code",
      "execution_count": null,
      "metadata": {
        "colab": {
          "base_uri": "https://localhost:8080/"
        },
        "id": "3es9FTPerSF_",
        "outputId": "3649b99c-90b2-4e1f-cdc4-55607c4634c6"
      },
      "outputs": [
        {
          "name": "stdout",
          "output_type": "stream",
          "text": [
            "Epoch 1/31\n",
            "391/391 [==============================] - 54s 125ms/step - loss: 1.6884 - accuracy: 0.3960 - val_loss: 2.9174 - val_accuracy: 0.1054\n",
            "Epoch 2/31\n",
            "391/391 [==============================] - 48s 122ms/step - loss: 1.2061 - accuracy: 0.5718 - val_loss: 1.1563 - val_accuracy: 0.5976\n",
            "Epoch 3/31\n",
            "391/391 [==============================] - 47s 121ms/step - loss: 0.9761 - accuracy: 0.6593 - val_loss: 1.0227 - val_accuracy: 0.6349\n",
            "Epoch 4/31\n",
            "391/391 [==============================] - 49s 124ms/step - loss: 0.8316 - accuracy: 0.7127 - val_loss: 0.9375 - val_accuracy: 0.6725\n",
            "Epoch 5/31\n",
            "391/391 [==============================] - 46s 119ms/step - loss: 0.7120 - accuracy: 0.7546 - val_loss: 0.9733 - val_accuracy: 0.6758\n",
            "Epoch 6/31\n",
            "391/391 [==============================] - 48s 123ms/step - loss: 0.6130 - accuracy: 0.7905 - val_loss: 0.7630 - val_accuracy: 0.7402\n",
            "Epoch 7/31\n",
            "391/391 [==============================] - 48s 122ms/step - loss: 0.5167 - accuracy: 0.8222 - val_loss: 0.7680 - val_accuracy: 0.7388\n",
            "Epoch 8/31\n",
            "391/391 [==============================] - 48s 122ms/step - loss: 0.4460 - accuracy: 0.8466 - val_loss: 0.8933 - val_accuracy: 0.7153\n",
            "Epoch 9/31\n",
            "391/391 [==============================] - 48s 122ms/step - loss: 0.3789 - accuracy: 0.8716 - val_loss: 0.7412 - val_accuracy: 0.7611\n",
            "Epoch 10/31\n",
            "391/391 [==============================] - 47s 119ms/step - loss: 0.3134 - accuracy: 0.8919 - val_loss: 0.9345 - val_accuracy: 0.7357\n",
            "Epoch 11/31\n",
            "391/391 [==============================] - 47s 119ms/step - loss: 0.2655 - accuracy: 0.9086 - val_loss: 1.0556 - val_accuracy: 0.7169\n",
            "Epoch 12/31\n",
            "391/391 [==============================] - 48s 122ms/step - loss: 0.2226 - accuracy: 0.9235 - val_loss: 0.8859 - val_accuracy: 0.7512\n",
            "Epoch 13/31\n",
            "391/391 [==============================] - 48s 122ms/step - loss: 0.1891 - accuracy: 0.9352 - val_loss: 0.8614 - val_accuracy: 0.7674\n",
            "Epoch 14/31\n",
            "391/391 [==============================] - 47s 121ms/step - loss: 0.1586 - accuracy: 0.9468 - val_loss: 1.1963 - val_accuracy: 0.7188\n",
            "Epoch 15/31\n",
            "391/391 [==============================] - 47s 119ms/step - loss: 0.1368 - accuracy: 0.9537 - val_loss: 1.0816 - val_accuracy: 0.7521\n",
            "Epoch 16/31\n",
            "391/391 [==============================] - 47s 119ms/step - loss: 0.1294 - accuracy: 0.9562 - val_loss: 0.9985 - val_accuracy: 0.7653\n",
            "Epoch 17/31\n",
            "391/391 [==============================] - 48s 122ms/step - loss: 0.1085 - accuracy: 0.9637 - val_loss: 1.0961 - val_accuracy: 0.7627\n",
            "Epoch 18/31\n",
            "391/391 [==============================] - 48s 122ms/step - loss: 0.0980 - accuracy: 0.9676 - val_loss: 0.9637 - val_accuracy: 0.7727\n",
            "Epoch 19/31\n",
            "391/391 [==============================] - 47s 120ms/step - loss: 0.0855 - accuracy: 0.9721 - val_loss: 1.2369 - val_accuracy: 0.7493\n",
            "Epoch 20/31\n",
            "391/391 [==============================] - 46s 119ms/step - loss: 0.0794 - accuracy: 0.9743 - val_loss: 0.9859 - val_accuracy: 0.7772\n",
            "Epoch 21/31\n",
            "391/391 [==============================] - 48s 123ms/step - loss: 0.0747 - accuracy: 0.9758 - val_loss: 1.2361 - val_accuracy: 0.7458\n",
            "Epoch 22/31\n",
            "391/391 [==============================] - 48s 123ms/step - loss: 0.0698 - accuracy: 0.9773 - val_loss: 1.1698 - val_accuracy: 0.7717\n",
            "Epoch 23/31\n",
            "391/391 [==============================] - 48s 123ms/step - loss: 0.0628 - accuracy: 0.9791 - val_loss: 1.2917 - val_accuracy: 0.7544\n",
            "Epoch 24/31\n",
            "391/391 [==============================] - 48s 122ms/step - loss: 0.0533 - accuracy: 0.9825 - val_loss: 1.4815 - val_accuracy: 0.7364\n",
            "Epoch 25/31\n",
            "391/391 [==============================] - 48s 121ms/step - loss: 0.0579 - accuracy: 0.9814 - val_loss: 1.0882 - val_accuracy: 0.7748\n",
            "Epoch 26/31\n",
            "391/391 [==============================] - 47s 120ms/step - loss: 0.0458 - accuracy: 0.9854 - val_loss: 1.1361 - val_accuracy: 0.7662\n",
            "Epoch 27/31\n",
            "391/391 [==============================] - 47s 120ms/step - loss: 0.0487 - accuracy: 0.9848 - val_loss: 1.3104 - val_accuracy: 0.7497\n",
            "Epoch 28/31\n",
            "391/391 [==============================] - 48s 121ms/step - loss: 0.0491 - accuracy: 0.9837 - val_loss: 1.0447 - val_accuracy: 0.7766\n",
            "Epoch 29/31\n",
            "391/391 [==============================] - 48s 123ms/step - loss: 0.0429 - accuracy: 0.9864 - val_loss: 1.1361 - val_accuracy: 0.7674\n",
            "Epoch 30/31\n",
            "391/391 [==============================] - 48s 121ms/step - loss: 0.0397 - accuracy: 0.9875 - val_loss: 1.0541 - val_accuracy: 0.7797\n",
            "Epoch 31/31\n",
            "391/391 [==============================] - 47s 120ms/step - loss: 0.0380 - accuracy: 0.9883 - val_loss: 1.2060 - val_accuracy: 0.7649\n",
            "79/79 - 5s - loss: 1.2060 - accuracy: 0.7649 - 5s/epoch - 61ms/step\n"
          ]
        }
      ],
      "source": [
        "\n",
        "nclasses=100\n",
        "#nclasses =1000\n",
        "def my_model4():\n",
        "    #entry flow\n",
        "    input = keras.Input(shape=(224,224,3))\n",
        "    x = layers.Conv2D(64,kernel_size=11,strides=(4,4))(input)\n",
        "    x = layers.BatchNormalization()(x)\n",
        "    x= layers.Activation('relu')(x)\n",
        "    x = layers.MaxPool2D(pool_size=(3,3), strides = (2,2))(x)\n",
        "    \n",
        "    \n",
        "    x = layers.DepthwiseConv2D(depth_multiplier=4,kernel_size=5,strides=(1,1),padding='same')(x)\n",
        "    x = layers.BatchNormalization()(x)\n",
        "    x= layers.Activation('relu')(x)\n",
        "    x1 = layers.MaxPool2D(pool_size=(3,3), strides = (2,2))(x)\n",
        "\n",
        "      #middle loop\n",
        "    x = layers.DepthwiseConv2D(depth_multiplier=1,kernel_size=3,strides=(1,1),padding='same')(x1)\n",
        "    x = layers.BatchNormalization()(x)\n",
        "    x2= layers.Activation('relu')(x)\n",
        "\n",
        "    x = layers.Conv2D(128,kernel_size=1,strides=(1,1),padding='same')(x1)\n",
        "    x = layers.BatchNormalization()(x)\n",
        "    x3= layers.Activation('relu')(x)\n",
        "    x = layers.Concatenate()([x2,x3])\n",
        "\n",
        "    x = layers.Conv2D(filters=384, kernel_size=(5,5), strides=(1,1), padding=\"same\")(x) #REMOVED (CASE 2: NO SCALING )DWC TO STD CONV\n",
        "    x = layers.BatchNormalization()(x)\n",
        "    x= layers.Activation('relu')(x)\n",
        "    \n",
        "    #Exit flow\n",
        "    x = layers.Conv2D(256,kernel_size=1,strides=(1,1),padding='same')(x)\n",
        "    x = layers.BatchNormalization()(x)\n",
        "    x= layers.Activation('relu')(x)\n",
        "    x = layers.MaxPool2D(pool_size=(3,3), strides = (2,2))(x)\n",
        "\n",
        "    x=keras.layers.Flatten()(x)\n",
        "    x=keras.layers.Dense(1024, activation='relu')(x)\n",
        "    x= keras.layers.Dropout(0.5)(x)\n",
        "\n",
        "    x= keras.layers.Dense(1024, activation='relu')(x)\n",
        "    x= keras.layers.Dropout(0.5)(x)\n",
        "    output = keras.layers.Dense(10, activation='softmax')(x)\n",
        "    model = keras.Model(input, output)\n",
        "    return model\n",
        "\n",
        "model4=my_model4()\n",
        "model4.compile(optimizer=tf.keras.optimizers.Adam(0.0001), loss='sparse_categorical_crossentropy', metrics=['accuracy'])\n",
        "  #tensorboard = TensorBoard(os.path.join('energylog',f'{batchsize}_{time.time()}'))\n",
        "  #@measure_energy(handler=csv_handler, domains=[NvidiaGPUDomain(0)])\n",
        "  #@measure_energy(handler=csv_handler,domains=[RaplPackageDomain(1), NvidiaGPUDomain(0),RaplDramDomain(0)])\n",
        "  #def foo():\n",
        "model4.fit(ds_train,  epochs=31, validation_data=ds_test, callbacks = [tensorboard])\n",
        "  #for _ in range(1):\n",
        "   #   foo()\n",
        "  #..\n",
        "#model.fit(ds_train,  epochs=10, validation_data=ds_test)\n",
        "test_loss, test_acc = model4.evaluate(ds_test, verbose=2)\n",
        "\n",
        "\n"
      ]
    },
    {
      "cell_type": "markdown",
      "metadata": {
        "id": "VF3HOg0WsUqL"
      },
      "source": [
        "## case 3: **downscaling**"
      ]
    },
    {
      "cell_type": "code",
      "execution_count": null,
      "metadata": {
        "id": "ZbpkZ_NfzI82"
      },
      "outputs": [],
      "source": [
        "#tensorboard = TensorBoard(os.path.join('energylog',f'{batchsize}_{time.time()}'))\n",
        "from datetime import datetime\n",
        "from packaging import version\n",
        "\n",
        "import os\n",
        "# Create a TensorBoard callback\n",
        "logs = \"alexLCRM-drPcase3\" + datetime.now().strftime(\"%Y%m%d-%H%M%S\")\n",
        "\n",
        "tensorboard = tf.keras.callbacks.TensorBoard(log_dir = logs,\n",
        "                                                 histogram_freq = 1,\n",
        "                                                 profile_batch = '10,20')"
      ]
    },
    {
      "cell_type": "code",
      "execution_count": null,
      "metadata": {
        "colab": {
          "base_uri": "https://localhost:8080/"
        },
        "id": "Kh1zy5XWsR-V",
        "outputId": "7794fd44-88f2-4547-deb2-08321d3b1370"
      },
      "outputs": [
        {
          "name": "stdout",
          "output_type": "stream",
          "text": [
            "Epoch 1/31\n",
            "391/391 [==============================] - 48s 109ms/step - loss: 1.7769 - accuracy: 0.3577 - val_loss: 2.5269 - val_accuracy: 0.1004\n",
            "Epoch 2/31\n",
            "391/391 [==============================] - 40s 102ms/step - loss: 1.3479 - accuracy: 0.5101 - val_loss: 1.1695 - val_accuracy: 0.5944\n",
            "Epoch 3/31\n",
            "391/391 [==============================] - 40s 101ms/step - loss: 1.1453 - accuracy: 0.5947 - val_loss: 1.0529 - val_accuracy: 0.6317\n",
            "Epoch 4/31\n",
            "391/391 [==============================] - 41s 103ms/step - loss: 0.9988 - accuracy: 0.6475 - val_loss: 1.1670 - val_accuracy: 0.6065\n",
            "Epoch 5/31\n",
            "391/391 [==============================] - 39s 100ms/step - loss: 0.8923 - accuracy: 0.6898 - val_loss: 0.9817 - val_accuracy: 0.6709\n",
            "Epoch 6/31\n",
            "391/391 [==============================] - 40s 102ms/step - loss: 0.8015 - accuracy: 0.7211 - val_loss: 0.9077 - val_accuracy: 0.6948\n",
            "Epoch 7/31\n",
            "391/391 [==============================] - 39s 101ms/step - loss: 0.7230 - accuracy: 0.7496 - val_loss: 0.9682 - val_accuracy: 0.6742\n",
            "Epoch 8/31\n",
            "391/391 [==============================] - 42s 107ms/step - loss: 0.6514 - accuracy: 0.7746 - val_loss: 0.8969 - val_accuracy: 0.7033\n",
            "Epoch 9/31\n",
            "391/391 [==============================] - 40s 102ms/step - loss: 0.5890 - accuracy: 0.7951 - val_loss: 0.7739 - val_accuracy: 0.7434\n",
            "Epoch 10/31\n",
            "391/391 [==============================] - 39s 101ms/step - loss: 0.5274 - accuracy: 0.8177 - val_loss: 0.8293 - val_accuracy: 0.7318\n",
            "Epoch 11/31\n",
            "391/391 [==============================] - 41s 104ms/step - loss: 0.4788 - accuracy: 0.8339 - val_loss: 0.7760 - val_accuracy: 0.7488\n",
            "Epoch 12/31\n",
            "391/391 [==============================] - 39s 101ms/step - loss: 0.4212 - accuracy: 0.8532 - val_loss: 0.9241 - val_accuracy: 0.7275\n",
            "Epoch 13/31\n",
            "391/391 [==============================] - 40s 101ms/step - loss: 0.3741 - accuracy: 0.8696 - val_loss: 0.7508 - val_accuracy: 0.7723\n",
            "Epoch 14/31\n",
            "391/391 [==============================] - 40s 103ms/step - loss: 0.3347 - accuracy: 0.8840 - val_loss: 0.8043 - val_accuracy: 0.7661\n",
            "Epoch 15/31\n",
            "391/391 [==============================] - 39s 100ms/step - loss: 0.2968 - accuracy: 0.8980 - val_loss: 0.9233 - val_accuracy: 0.7544\n",
            "Epoch 16/31\n",
            "391/391 [==============================] - 39s 100ms/step - loss: 0.2631 - accuracy: 0.9077 - val_loss: 0.8658 - val_accuracy: 0.7595\n",
            "Epoch 17/31\n",
            "391/391 [==============================] - 40s 103ms/step - loss: 0.2430 - accuracy: 0.9142 - val_loss: 0.9604 - val_accuracy: 0.7467\n",
            "Epoch 18/31\n",
            "391/391 [==============================] - 39s 101ms/step - loss: 0.2131 - accuracy: 0.9266 - val_loss: 0.9475 - val_accuracy: 0.7611\n",
            "Epoch 19/31\n",
            "391/391 [==============================] - 39s 100ms/step - loss: 0.1920 - accuracy: 0.9330 - val_loss: 1.0245 - val_accuracy: 0.7655\n",
            "Epoch 20/31\n",
            "391/391 [==============================] - 41s 104ms/step - loss: 0.1772 - accuracy: 0.9392 - val_loss: 1.1681 - val_accuracy: 0.7351\n",
            "Epoch 21/31\n",
            "391/391 [==============================] - 39s 100ms/step - loss: 0.1572 - accuracy: 0.9458 - val_loss: 0.9927 - val_accuracy: 0.7634\n",
            "Epoch 22/31\n",
            "391/391 [==============================] - 41s 104ms/step - loss: 0.1440 - accuracy: 0.9506 - val_loss: 1.1531 - val_accuracy: 0.7413\n",
            "Epoch 23/31\n",
            "391/391 [==============================] - 40s 102ms/step - loss: 0.1373 - accuracy: 0.9526 - val_loss: 1.1344 - val_accuracy: 0.7540\n",
            "Epoch 24/31\n",
            "391/391 [==============================] - 40s 102ms/step - loss: 0.1275 - accuracy: 0.9569 - val_loss: 1.2219 - val_accuracy: 0.7375\n",
            "Epoch 25/31\n",
            "391/391 [==============================] - 39s 100ms/step - loss: 0.1198 - accuracy: 0.9584 - val_loss: 1.2970 - val_accuracy: 0.7385\n",
            "Epoch 26/31\n",
            "391/391 [==============================] - 39s 100ms/step - loss: 0.1050 - accuracy: 0.9648 - val_loss: 1.3604 - val_accuracy: 0.7337\n",
            "Epoch 27/31\n",
            "391/391 [==============================] - 39s 100ms/step - loss: 0.1032 - accuracy: 0.9653 - val_loss: 1.5435 - val_accuracy: 0.7152\n",
            "Epoch 28/31\n",
            "391/391 [==============================] - 40s 101ms/step - loss: 0.0966 - accuracy: 0.9686 - val_loss: 1.4764 - val_accuracy: 0.7221\n",
            "Epoch 29/31\n",
            "391/391 [==============================] - 39s 100ms/step - loss: 0.0950 - accuracy: 0.9685 - val_loss: 1.5611 - val_accuracy: 0.7119\n",
            "Epoch 30/31\n",
            "391/391 [==============================] - 39s 100ms/step - loss: 0.0864 - accuracy: 0.9711 - val_loss: 1.2793 - val_accuracy: 0.7458\n",
            "Epoch 31/31\n",
            "391/391 [==============================] - 40s 103ms/step - loss: 0.0814 - accuracy: 0.9719 - val_loss: 1.4597 - val_accuracy: 0.7334\n",
            "79/79 - 5s - loss: 1.4597 - accuracy: 0.7334 - 5s/epoch - 59ms/step\n"
          ]
        }
      ],
      "source": [
        "#Nanonet base model obtained after applying LCRM ON AlexNet algorithm\n",
        "nclasses=100\n",
        "#nclasses =1000\n",
        "def my_model5():\n",
        "    #entry flow\n",
        "    input = keras.Input(shape=(224,224,3))\n",
        "    x = layers.Conv2D(64,kernel_size=11,strides=(4,4))(input)\n",
        "    x = layers.BatchNormalization()(x)\n",
        "    x= layers.Activation('relu')(x)\n",
        "    x = layers.MaxPool2D(pool_size=(3,3), strides = (2,2))(x)\n",
        "    \n",
        "    \n",
        "    x = layers.DepthwiseConv2D(depth_multiplier=4,kernel_size=5,strides=(1,1),padding='same')(x)\n",
        "    #x = layers.Conv2D(filters=256, kernel_size=(5,5), strides=(1,1), padding=\"same\")(x)\n",
        "    x = layers.BatchNormalization()(x)\n",
        "    x= layers.Activation('relu')(x)\n",
        "    x1 = layers.MaxPool2D(pool_size=(3,3), strides = (2,2))(x)\n",
        "\n",
        "      #middle loop\n",
        "    x = layers.DepthwiseConv2D(depth_multiplier=1,kernel_size=3,strides=(1,1),padding='same')(x1)\n",
        "    x = layers.BatchNormalization()(x)\n",
        "    x2= layers.Activation('relu')(x)\n",
        "\n",
        "    x = layers.Conv2D(128,kernel_size=1,strides=(1,1),padding='same')(x1)\n",
        "    x = layers.BatchNormalization()(x)\n",
        "    x3= layers.Activation('relu')(x)\n",
        "    x = layers.Concatenate()([x2,x3])\n",
        "\n",
        "    x = layers.DepthwiseConv2D(depth_multiplier=1,kernel_size=3,strides=(1,1),padding='same')(x)\n",
        "    x = layers.BatchNormalization()(x)\n",
        "    x= layers.Activation('relu')(x)\n",
        "    \n",
        "    #Exit flow\n",
        "    x = layers.Conv2D(256,kernel_size=3,strides=(1,1),padding='same')(x) #(REMOVED CASE 3 DOWNSCALING), PWC TO STD CNN\n",
        "    x = layers.BatchNormalization()(x)\n",
        "    x= layers.Activation('relu')(x)\n",
        "    x = layers.MaxPool2D(pool_size=(3,3), strides = (2,2))(x)\n",
        "\n",
        "    x=keras.layers.Flatten()(x)\n",
        "    x=keras.layers.Dense(1024, activation='relu')(x)\n",
        "    x= keras.layers.Dropout(0.5)(x)\n",
        "\n",
        "    x= keras.layers.Dense(1024, activation='relu')(x)\n",
        "    x= keras.layers.Dropout(0.5)(x)\n",
        "    output = keras.layers.Dense(10, activation='softmax')(x)\n",
        "    model = keras.Model(input, output)\n",
        "    return model\n",
        "\n",
        "model5=my_model5()\n",
        "model5.compile(optimizer=tf.keras.optimizers.Adam(0.0001), loss='sparse_categorical_crossentropy', metrics=['accuracy'])\n",
        "  #tensorboard = TensorBoard(os.path.join('energylog',f'{batchsize}_{time.time()}'))\n",
        "  #@measure_energy(handler=csv_handler, domains=[NvidiaGPUDomain(0)])\n",
        "  #@measure_energy(handler=csv_handler,domains=[RaplPackageDomain(1), NvidiaGPUDomain(0),RaplDramDomain(0)])\n",
        "  #def foo():\n",
        "model5.fit(ds_train,  epochs=31, validation_data=ds_test, callbacks = [tensorboard])\n",
        "  #for _ in range(1):\n",
        "   #   foo()\n",
        "  #..\n",
        "#model.fit(ds_train,  epochs=10, validation_data=ds_test)\n",
        "test_loss, test_acc = model5.evaluate(ds_test, verbose=2)\n",
        "\n",
        "\n"
      ]
    },
    {
      "cell_type": "code",
      "execution_count": null,
      "metadata": {
        "colab": {
          "base_uri": "https://localhost:8080/"
        },
        "id": "StpHlSddXhY0",
        "outputId": "493962b5-a60c-46c3-eff0-eb2f6b401b3c"
      },
      "outputs": [
        {
          "name": "stdout",
          "output_type": "stream",
          "text": [
            "Drive already mounted at /content/drive; to attempt to forcibly remount, call drive.mount(\"/content/drive\", force_remount=True).\n"
          ]
        }
      ],
      "source": [
        "from google.colab import drive\n",
        "drive.mount('/content/drive')"
      ]
    },
    {
      "cell_type": "code",
      "execution_count": null,
      "metadata": {
        "id": "LIFOwasW_ntp"
      },
      "outputs": [],
      "source": [
        "!pip install -U tensorboard_plugin_profile\n",
        "%load_ext tensorboard"
      ]
    },
    {
      "cell_type": "code",
      "execution_count": null,
      "metadata": {
        "colab": {
          "base_uri": "https://localhost:8080/",
          "height": 399
        },
        "id": "1Qu-6ZQqTiFI",
        "outputId": "f2843221-6656-4fba-d77e-dad2ecbaed02"
      },
      "outputs": [
        {
          "data": {
            "text/plain": [
              "ERROR: Failed to launch TensorBoard (exited with 1).\n",
              "Contents of stderr:\n",
              "2023-03-24 05:30:18.755932: I tensorflow/core/platform/cpu_feature_guard.cc:193] This TensorFlow binary is optimized with oneAPI Deep Neural Network Library (oneDNN) to use the following CPU instructions in performance-critical operations:  AVX2 FMA\n",
              "To enable them in other operations, rebuild TensorFlow with the appropriate compiler flags.\n",
              "2023-03-24 05:30:20.447230: W tensorflow/compiler/xla/stream_executor/platform/default/dso_loader.cc:64] Could not load dynamic library 'libnvinfer.so.7'; dlerror: libnvinfer.so.7: cannot open shared object file: No such file or directory; LD_LIBRARY_PATH: /usr/local/nvidia/lib:/usr/local/nvidia/lib64\n",
              "2023-03-24 05:30:20.447399: W tensorflow/compiler/xla/stream_executor/platform/default/dso_loader.cc:64] Could not load dynamic library 'libnvinfer_plugin.so.7'; dlerror: libnvinfer_plugin.so.7: cannot open shared object file: No such file or directory; LD_LIBRARY_PATH: /usr/local/nvidia/lib:/usr/local/nvidia/lib64\n",
              "2023-03-24 05:30:20.447419: W tensorflow/compiler/tf2tensorrt/utils/py_utils.cc:38] TF-TRT Warning: Cannot dlopen some TensorRT libraries. If you would like to use Nvidia GPU with TensorRT, please make sure the missing libraries mentioned above are installed properly.\n",
              "2023-03-24 05:30:22.296579: E tensorflow/compiler/xla/stream_executor/cuda/cuda_driver.cc:267] failed call to cuInit: CUDA_ERROR_NO_DEVICE: no CUDA-capable device is detected\n",
              "\n",
              "NOTE: Using experimental fast data loading logic. To disable, pass\n",
              "    \"--load_fast=false\" and report issues on GitHub. More details:\n",
              "    https://github.com/tensorflow/tensorboard/issues/4784\n",
              "\n",
              "Address already in use\n",
              "Port 6006 is in use by another program. Either identify and stop that program, or start the server with a different port."
            ]
          },
          "metadata": {},
          "output_type": "display_data"
        }
      ],
      "source": [
        "%tensorboard --logdir /content/drive/MyDrive/IEEEACCESS/Ablaion"
      ]
    },
    {
      "cell_type": "code",
      "execution_count": null,
      "metadata": {
        "colab": {
          "base_uri": "https://localhost:8080/",
          "height": 573
        },
        "id": "7YOB3zV5nKr8",
        "outputId": "588f52cc-4fb5-40e4-edb0-929f99bdc0e6"
      },
      "outputs": [
        {
          "data": {
            "image/png": "[encoded data removed]",
            "text/plain": [
              "<Figure size 432x288 with 1 Axes>"
            ]
          },
          "metadata": {
            "needs_background": "light"
          },
          "output_type": "display_data"
        },
        {
          "data": {
            "image/png": "[encoded data removed]",
            "text/plain": [
              "<Figure size 432x288 with 1 Axes>"
            ]
          },
          "metadata": {
            "needs_background": "light"
          },
          "output_type": "display_data"
        }
      ],
      "source": [
        "import matplotlib.pyplot as plt\n",
        "\n",
        "# Create a list of values for x-axis (assuming it to be 'Step')\n",
        "# ADD VALUES FROM CASE1-3, LCRM AND SAVE UNDER VARIABLES  case1_1,..case3, lcrm\n",
        "x = list(range(len(case1_1)))\n",
        "\n",
        "# Plot the graph\n",
        "plt.plot(x, case1_1, label='Case 1.1')\n",
        "plt.plot(x, case1_2, label='Case 1.2')\n",
        "plt.plot(x, case2, label='Case 2')\n",
        "plt.plot(x, case3, label='Case 3')\n",
        "plt.plot(x, lcrm, label='LCRM')\n",
        "\n",
        "# Add a title and axis labels\n",
        "plt.title('Graph Title')\n",
        "plt.xlabel('X-axis Label')\n",
        "plt.ylabel('Y-axis Label')\n",
        "\n",
        "# Add a legend\n",
        "plt.legend()\n",
        "\n",
        "# Show the plot\n",
        "plt.show()\n",
        "\n",
        "import matplotlib.pyplot as plt\n",
        "from scipy.signal import savgol_filter\n",
        "\n",
        "# apply savgol filter to smooth the data\n",
        "case1_1_smooth = savgol_filter(case1_1, 11, 2)\n",
        "case1_2_smooth = savgol_filter(case1_2, 11, 2)\n",
        "case3_smooth = savgol_filter(case3, 11, 2)\n",
        "case2_smooth = savgol_filter(case2, 11, 2)\n",
        "plt.grid(True)\n",
        "# plot the smoothed data\n",
        "plt.plot(case1_1_smooth, label='Case 1_1')\n",
        "plt.plot(case1_2_smooth, label='Case 1_2')\n",
        "plt.plot(case3_smooth, label='Case 1_3')\n",
        "plt.plot(case2_smooth, label='Case 1_4')\n",
        "\n",
        "# add titles and labels\n",
        "plt.title('Smoothed Data for Cases 1')\n",
        "plt.xlabel('Time (s)')\n",
        "plt.ylabel('Value')\n",
        "\n",
        "# add legend\n",
        "plt.legend()\n",
        "\n",
        "# show plot\n",
        "plt.show()"
      ]
    }
  ],
  "metadata": {
    "accelerator": "GPU",
    "colab": {
      "provenance": []
    },
    "gpuClass": "standard",
    "kernelspec": {
      "display_name": "Python 3",
      "name": "python3"
    },
    "language_info": {
      "name": "python"
    }
  },
  "nbformat": 4,
  "nbformat_minor": 0
}
