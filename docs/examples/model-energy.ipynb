{
  "cells": [
    {
      "cell_type": "markdown",
      "metadata": {
        "id": "yf0bEsGKIpwr"
      },
      "source": [
        "# Estimating model energy\n",
        "\n",
        "[![Open In\n",
        "Colab](https://colab.research.google.com/assets/colab-badge.svg)](https://colab.research.google.com/github/nengo/keras-spiking/blob/master/docs/examples/model-energy.ipynb)\n",
        "\n",
        "One of the main motivations for using spiking methods is the potential for significant\n",
        "energy savings over standard techniques. Thus it is useful to be able to estimate how\n",
        "much energy would be used by a model on different devices, so that we can get an\n",
        "idea of how different model/device parameters affect the energy usage before pursuing a\n",
        "full deployment."
      ]
    },
    {
      "cell_type": "code",
      "source": [
        "!pip install keras_spiking"
      ],
      "metadata": {
        "id": "601LIQ2gIyay",
        "outputId": "ba769707-badc-4bc3-fcfc-02c1a954d503",
        "colab": {
          "base_uri": "https://localhost:8080/"
        }
      },
      "execution_count": 2,
      "outputs": [
        {
          "output_type": "stream",
          "name": "stdout",
          "text": [
            "Collecting keras_spiking\n",
            "  Downloading keras_spiking-0.3.0-py3-none-any.whl (37 kB)\n",
            "Requirement already satisfied: numpy>=1.16.0 in /usr/local/lib/python3.10/dist-packages (from keras_spiking) (1.23.5)\n",
            "Requirement already satisfied: packaging>=20.0 in /usr/local/lib/python3.10/dist-packages (from keras_spiking) (23.2)\n",
            "Requirement already satisfied: tensorflow>=2.1.0 in /usr/local/lib/python3.10/dist-packages (from keras_spiking) (2.13.0)\n",
            "Requirement already satisfied: absl-py>=1.0.0 in /usr/local/lib/python3.10/dist-packages (from tensorflow>=2.1.0->keras_spiking) (1.4.0)\n",
            "Requirement already satisfied: astunparse>=1.6.0 in /usr/local/lib/python3.10/dist-packages (from tensorflow>=2.1.0->keras_spiking) (1.6.3)\n",
            "Requirement already satisfied: flatbuffers>=23.1.21 in /usr/local/lib/python3.10/dist-packages (from tensorflow>=2.1.0->keras_spiking) (23.5.26)\n",
            "Requirement already satisfied: gast<=0.4.0,>=0.2.1 in /usr/local/lib/python3.10/dist-packages (from tensorflow>=2.1.0->keras_spiking) (0.4.0)\n",
            "Requirement already satisfied: google-pasta>=0.1.1 in /usr/local/lib/python3.10/dist-packages (from tensorflow>=2.1.0->keras_spiking) (0.2.0)\n",
            "Requirement already satisfied: grpcio<2.0,>=1.24.3 in /usr/local/lib/python3.10/dist-packages (from tensorflow>=2.1.0->keras_spiking) (1.59.0)\n",
            "Requirement already satisfied: h5py>=2.9.0 in /usr/local/lib/python3.10/dist-packages (from tensorflow>=2.1.0->keras_spiking) (3.9.0)\n",
            "Requirement already satisfied: keras<2.14,>=2.13.1 in /usr/local/lib/python3.10/dist-packages (from tensorflow>=2.1.0->keras_spiking) (2.13.1)\n",
            "Requirement already satisfied: libclang>=13.0.0 in /usr/local/lib/python3.10/dist-packages (from tensorflow>=2.1.0->keras_spiking) (16.0.6)\n",
            "Requirement already satisfied: opt-einsum>=2.3.2 in /usr/local/lib/python3.10/dist-packages (from tensorflow>=2.1.0->keras_spiking) (3.3.0)\n",
            "Requirement already satisfied: protobuf!=4.21.0,!=4.21.1,!=4.21.2,!=4.21.3,!=4.21.4,!=4.21.5,<5.0.0dev,>=3.20.3 in /usr/local/lib/python3.10/dist-packages (from tensorflow>=2.1.0->keras_spiking) (3.20.3)\n",
            "Requirement already satisfied: setuptools in /usr/local/lib/python3.10/dist-packages (from tensorflow>=2.1.0->keras_spiking) (67.7.2)\n",
            "Requirement already satisfied: six>=1.12.0 in /usr/local/lib/python3.10/dist-packages (from tensorflow>=2.1.0->keras_spiking) (1.16.0)\n",
            "Requirement already satisfied: tensorboard<2.14,>=2.13 in /usr/local/lib/python3.10/dist-packages (from tensorflow>=2.1.0->keras_spiking) (2.13.0)\n",
            "Requirement already satisfied: tensorflow-estimator<2.14,>=2.13.0 in /usr/local/lib/python3.10/dist-packages (from tensorflow>=2.1.0->keras_spiking) (2.13.0)\n",
            "Requirement already satisfied: termcolor>=1.1.0 in /usr/local/lib/python3.10/dist-packages (from tensorflow>=2.1.0->keras_spiking) (2.3.0)\n",
            "Requirement already satisfied: typing-extensions<4.6.0,>=3.6.6 in /usr/local/lib/python3.10/dist-packages (from tensorflow>=2.1.0->keras_spiking) (4.5.0)\n",
            "Requirement already satisfied: wrapt>=1.11.0 in /usr/local/lib/python3.10/dist-packages (from tensorflow>=2.1.0->keras_spiking) (1.15.0)\n",
            "Requirement already satisfied: tensorflow-io-gcs-filesystem>=0.23.1 in /usr/local/lib/python3.10/dist-packages (from tensorflow>=2.1.0->keras_spiking) (0.34.0)\n",
            "Requirement already satisfied: wheel<1.0,>=0.23.0 in /usr/local/lib/python3.10/dist-packages (from astunparse>=1.6.0->tensorflow>=2.1.0->keras_spiking) (0.41.2)\n",
            "Requirement already satisfied: google-auth<3,>=1.6.3 in /usr/local/lib/python3.10/dist-packages (from tensorboard<2.14,>=2.13->tensorflow>=2.1.0->keras_spiking) (2.17.3)\n",
            "Requirement already satisfied: google-auth-oauthlib<1.1,>=0.5 in /usr/local/lib/python3.10/dist-packages (from tensorboard<2.14,>=2.13->tensorflow>=2.1.0->keras_spiking) (1.0.0)\n",
            "Requirement already satisfied: markdown>=2.6.8 in /usr/local/lib/python3.10/dist-packages (from tensorboard<2.14,>=2.13->tensorflow>=2.1.0->keras_spiking) (3.4.4)\n",
            "Requirement already satisfied: requests<3,>=2.21.0 in /usr/local/lib/python3.10/dist-packages (from tensorboard<2.14,>=2.13->tensorflow>=2.1.0->keras_spiking) (2.31.0)\n",
            "Requirement already satisfied: tensorboard-data-server<0.8.0,>=0.7.0 in /usr/local/lib/python3.10/dist-packages (from tensorboard<2.14,>=2.13->tensorflow>=2.1.0->keras_spiking) (0.7.1)\n",
            "Requirement already satisfied: werkzeug>=1.0.1 in /usr/local/lib/python3.10/dist-packages (from tensorboard<2.14,>=2.13->tensorflow>=2.1.0->keras_spiking) (3.0.0)\n",
            "Requirement already satisfied: cachetools<6.0,>=2.0.0 in /usr/local/lib/python3.10/dist-packages (from google-auth<3,>=1.6.3->tensorboard<2.14,>=2.13->tensorflow>=2.1.0->keras_spiking) (5.3.1)\n",
            "Requirement already satisfied: pyasn1-modules>=0.2.1 in /usr/local/lib/python3.10/dist-packages (from google-auth<3,>=1.6.3->tensorboard<2.14,>=2.13->tensorflow>=2.1.0->keras_spiking) (0.3.0)\n",
            "Requirement already satisfied: rsa<5,>=3.1.4 in /usr/local/lib/python3.10/dist-packages (from google-auth<3,>=1.6.3->tensorboard<2.14,>=2.13->tensorflow>=2.1.0->keras_spiking) (4.9)\n",
            "Requirement already satisfied: requests-oauthlib>=0.7.0 in /usr/local/lib/python3.10/dist-packages (from google-auth-oauthlib<1.1,>=0.5->tensorboard<2.14,>=2.13->tensorflow>=2.1.0->keras_spiking) (1.3.1)\n",
            "Requirement already satisfied: charset-normalizer<4,>=2 in /usr/local/lib/python3.10/dist-packages (from requests<3,>=2.21.0->tensorboard<2.14,>=2.13->tensorflow>=2.1.0->keras_spiking) (3.3.0)\n",
            "Requirement already satisfied: idna<4,>=2.5 in /usr/local/lib/python3.10/dist-packages (from requests<3,>=2.21.0->tensorboard<2.14,>=2.13->tensorflow>=2.1.0->keras_spiking) (3.4)\n",
            "Requirement already satisfied: urllib3<3,>=1.21.1 in /usr/local/lib/python3.10/dist-packages (from requests<3,>=2.21.0->tensorboard<2.14,>=2.13->tensorflow>=2.1.0->keras_spiking) (2.0.6)\n",
            "Requirement already satisfied: certifi>=2017.4.17 in /usr/local/lib/python3.10/dist-packages (from requests<3,>=2.21.0->tensorboard<2.14,>=2.13->tensorflow>=2.1.0->keras_spiking) (2023.7.22)\n",
            "Requirement already satisfied: MarkupSafe>=2.1.1 in /usr/local/lib/python3.10/dist-packages (from werkzeug>=1.0.1->tensorboard<2.14,>=2.13->tensorflow>=2.1.0->keras_spiking) (2.1.3)\n",
            "Requirement already satisfied: pyasn1<0.6.0,>=0.4.6 in /usr/local/lib/python3.10/dist-packages (from pyasn1-modules>=0.2.1->google-auth<3,>=1.6.3->tensorboard<2.14,>=2.13->tensorflow>=2.1.0->keras_spiking) (0.5.0)\n",
            "Requirement already satisfied: oauthlib>=3.0.0 in /usr/local/lib/python3.10/dist-packages (from requests-oauthlib>=0.7.0->google-auth-oauthlib<1.1,>=0.5->tensorboard<2.14,>=2.13->tensorflow>=2.1.0->keras_spiking) (3.2.2)\n",
            "Installing collected packages: keras_spiking\n",
            "Successfully installed keras_spiking-0.3.0\n"
          ]
        }
      ]
    },
    {
      "cell_type": "code",
      "execution_count": 3,
      "metadata": {
        "id": "Er0IfUnLIpwx"
      },
      "outputs": [],
      "source": [
        "import warnings\n",
        "\n",
        "import numpy as np\n",
        "import tensorflow as tf\n",
        "\n",
        "import keras_spiking\n",
        "\n",
        "warnings.simplefilter(\"ignore\")\n",
        "tf.get_logger().addFilter(lambda rec: \"Tracing is expensive\" not in rec.msg)"
      ]
    },
    {
      "cell_type": "markdown",
      "metadata": {
        "id": "apTYZoW4Ipwz"
      },
      "source": [
        "## Assumptions\n",
        "\n",
        "It is important to keep in mind that actual power usage will be heavily dependent on the\n",
        "specific details of the underlying software and hardware implementation. The numbers\n",
        "provided by KerasSpiking should be taken as very rough estimates only, and they rely on\n",
        "a number of assumptions:\n",
        "\n",
        "- **Device specifications**: In order to estimate the energy used by a model on a\n",
        "particular device, we need to know how much energy is used per synaptic operation/neuron\n",
        "update. We rely on published data for these numbers (see our sources for\n",
        "[CPU/GPU/ARM](https://ieeexplore.ieee.org/abstract/document/7054508),\n",
        "[Loihi](https://redwood.berkeley.edu/wp-content/uploads/2021/08/Davies2018.pdf),\n",
        "and [SpiNNaker 1/2](https://arxiv.org/abs/1903.08941)). Energy numbers in practice can\n",
        "differ significantly from published results.\n",
        "- **Overhead**: We do not account for any overhead in the energy estimates (e.g., the\n",
        "cost of transferring data on and off a device). We only estimate the energy usage of\n",
        "internal model computations (synaptic operations and neuron updates). In practice,\n",
        "overhead can be a significant contributor to the energy usage of a model.\n",
        "- **Spiking implementation**: When estimating the energy usage for spiking devices,\n",
        "such as Loihi and Spinnaker, we assume that the model being estimated can be fully\n",
        "converted to a spiking implementation for deployment on the device\n",
        "(even if the input model has non-spiking elements). For example, if the model\n",
        "contains ``tf.keras.layers.Activation(\"relu\")`` layers (non-spiking), we assume that on\n",
        "a spiking device those layers will be converted to something equivalent to\n",
        "``keras_spiking.SpikingActivation(\"relu\")``, and that any connecting layers (e.g.\n",
        "``tf.keras.layers.Dense``) are applied in an event-based fashion (i.e., processing only\n",
        "occurs when the input layer emits a spike). In practice, it is not trivial to map a\n",
        "neural network to a spiking device in this way, and implementation details can\n",
        "significantly affect energy usage. [Nengo](https://www.nengo.ai/nengo/) and\n",
        "[NengoDL](https://www.nengo.ai/nengo-dl/) are designed to make this easier.\n",
        "\n",
        "On non-spiking devices, such as CPU and GPU, we assume that the network runs as a\n",
        "traditional (non-spiking) ANN, and is able to compute the output without iterating\n",
        "over time using non-spiking neurons."
      ]
    },
    {
      "cell_type": "markdown",
      "metadata": {
        "id": "rPyeRHEUIpw4"
      },
      "source": [
        "## Using ModelEnergy\n",
        "\n",
        "The ``keras_spiking.ModelEnergy`` class provides the entry point for energy estimation.\n",
        "It takes a Keras model as input, and computes relevant statistics for that model."
      ]
    },
    {
      "cell_type": "code",
      "execution_count": 4,
      "metadata": {
        "id": "Vz7FzzA5Ipw5",
        "outputId": "beb50121-3a1f-41f6-c0b4-3b994362d960",
        "colab": {
          "base_uri": "https://localhost:8080/"
        }
      },
      "outputs": [
        {
          "output_type": "stream",
          "name": "stdout",
          "text": [
            "Model: \"model\"\n",
            "_________________________________________________________________\n",
            " Layer (type)                Output Shape              Param #   \n",
            "=================================================================\n",
            " input_1 (InputLayer)        [(None, 28, 28, 1)]       0         \n",
            "                                                                 \n",
            " conv2d (Conv2D)             (None, 22, 22, 2)         100       \n",
            "                                                                 \n",
            " re_lu (ReLU)                (None, 22, 22, 2)         0         \n",
            "                                                                 \n",
            " flatten (Flatten)           (None, 968)               0         \n",
            "                                                                 \n",
            " dense (Dense)               (None, 128)               124032    \n",
            "                                                                 \n",
            " re_lu_1 (ReLU)              (None, 128)               0         \n",
            "                                                                 \n",
            " dense_1 (Dense)             (None, 10)                1290      \n",
            "                                                                 \n",
            "=================================================================\n",
            "Total params: 125422 (489.93 KB)\n",
            "Trainable params: 125422 (489.93 KB)\n",
            "Non-trainable params: 0 (0.00 Byte)\n",
            "_________________________________________________________________\n"
          ]
        }
      ],
      "source": [
        "# build an example model\n",
        "inp = x = tf.keras.Input((28, 28, 1))\n",
        "x = tf.keras.layers.Conv2D(filters=2, kernel_size=(7, 7))(x)\n",
        "x = tf.keras.layers.ReLU()(x)\n",
        "x = tf.keras.layers.Flatten()(x)\n",
        "x = tf.keras.layers.Dense(units=128)(x)\n",
        "x = tf.keras.layers.ReLU()(x)\n",
        "x = tf.keras.layers.Dense(units=10)(x)\n",
        "\n",
        "model = tf.keras.Model(inp, x)\n",
        "model.summary()"
      ]
    },
    {
      "cell_type": "code",
      "execution_count": 5,
      "metadata": {
        "id": "cylVBjjXIpw6",
        "outputId": "cd559306-db1a-4bbc-e8a7-9bcc640e666c",
        "colab": {
          "base_uri": "https://localhost:8080/"
        }
      },
      "outputs": [
        {
          "output_type": "stream",
          "name": "stdout",
          "text": [
            "Layer (type)        |Output shape       |Param #|Conn #|Neuron #|J/inf (cpu)\n",
            "--------------------|-------------------|-------|------|--------|-----------\n",
            "input_1 (InputLayer)|[(None, 28, 28, 1)]|      0|     0|       0|          0\n",
            "conv2d (Conv2D)     |  (None, 22, 22, 2)|    100| 47432|       0|    0.00041\n",
            "re_lu (ReLU)        |  (None, 22, 22, 2)|      0|     0|     968|    8.3e-06\n",
            "flatten (Flatten)   |        (None, 968)|      0|     0|       0|          0\n",
            "dense (Dense)       |        (None, 128)| 124032|123904|       0|     0.0011\n",
            "re_lu_1 (ReLU)      |        (None, 128)|      0|     0|     128|    1.1e-06\n",
            "dense_1 (Dense)     |         (None, 10)|   1290|  1280|       0|    1.1e-05\n",
            "============================================================================\n",
            "Total energy per inference [Joules/inf] (cpu): 1.49e-03\n"
          ]
        }
      ],
      "source": [
        "# estimate model energy\n",
        "energy = keras_spiking.ModelEnergy(model)\n",
        "energy.summary(print_warnings=False)"
      ]
    },
    {
      "cell_type": "markdown",
      "metadata": {
        "id": "5alRiQYKIpw7"
      },
      "source": [
        "The first three columns show the layer name/type, the output shape,\n",
        "and the number of parameters in each layer, and are identical to\n",
        "the corresponding columns in ``model.summary()``.\n",
        "\n",
        "The next column shows the number of connections;\n",
        "two units are connected if a change in the input unit's value\n",
        "changes the output unit's value (assuming non-zero parameters).\n",
        "In a dense connection, the number of connections is the input size\n",
        "times the output size (since each output unit is connected to each input unit);\n",
        "in a convolutional connection, it equals the kernel size times\n",
        "the number of input filters times the output shape.\n",
        "Note that the number of connections can be quite different than the number of\n",
        "parameters, particularly for layers like ``Conv2D`` where parameters are\n",
        "shared between many connections.\n",
        "\n",
        "The next column shows the number of neurons in a layer;\n",
        "for activation layers, this equals the number of output units\n",
        "(i.e. the output size), otherwise it is zero.\n",
        "\n",
        "The last column shows the estimated energy consumption in\n",
        "Joules per inference on a CPU (specifically an Intel i7-4960X).\n",
        "All comparisons made by ``ModelEnergy`` are done using energy per inference,\n",
        "to account for the fact that spiking devices must iterate over a\n",
        "number of timesteps to get an accurate inference,\n",
        "whereas non-spiking devices (such as the CPU here) do not require such iteration.\n",
        "This number represents a lower bound on the amount of energy that might be\n",
        "used by a CPU, since it does not include any overhead,\n",
        "such as energy required to get data on and off the device.\n",
        "\n",
        "We can customize the summary by specifying the columns we want displayed (see [the\n",
        "documentation](https://www.nengo.ai/keras-spiking/reference.html#keras_spiking.ModelEnergy.summary)\n",
        "for the available options, and\n",
        "[here](https://www.nengo.ai/keras-spiking/reference.html#keras_spiking.ModelEnergy)\n",
        "for the built-in devices)."
      ]
    },
    {
      "cell_type": "code",
      "execution_count": null,
      "metadata": {
        "id": "u-xn8chkIpw8"
      },
      "outputs": [],
      "source": [
        "energy.summary(\n",
        "    columns=(\n",
        "        \"name\",\n",
        "        \"energy cpu\",\n",
        "        \"energy gpu\",\n",
        "        \"synop_energy cpu\",\n",
        "        \"synop_energy gpu\",\n",
        "        \"neuron_energy cpu\",\n",
        "        \"neuron_energy gpu\",\n",
        "    ),\n",
        "    print_warnings=False,\n",
        ")"
      ]
    },
    {
      "cell_type": "markdown",
      "metadata": {
        "id": "GZWbGCdEIpw9"
      },
      "source": [
        "Here, we can see the individual components contributing to the energy usage\n",
        "on each device. The energy spent on synops (short for \"synaptic operations\")\n",
        "is used to multiply values by connection weights;\n",
        "on non-spiking hardware, this has to be done for all connections,\n",
        "but on spiking hardware it is only done when a pre-synaptic neuron spikes.\n",
        "The energy spent on neurons is used to compute neural non-linearities;\n",
        "these neuron updates must happen for all neurons, regardless of input.\n",
        "\n",
        "ModelEnergy has one other parameter, ``example_data``. This data will be passed to the\n",
        "model and used to compute the average firing rate of each layer. This is necessary\n",
        "information for estimating the energy usage of spiking devices, as the number of\n",
        "synaptic updates that need to be performed will be proportional to the firing rates (but\n",
        "has no impact on non-spiking devices, as they perform all synaptic updates every\n",
        "timestep regardless)."
      ]
    },
    {
      "cell_type": "code",
      "execution_count": 6,
      "metadata": {
        "id": "LziOxtXeIpw9",
        "outputId": "f50a8ebe-8236-4523-ace4-9d04a80b025c",
        "colab": {
          "base_uri": "https://localhost:8080/"
        }
      },
      "outputs": [
        {
          "output_type": "stream",
          "name": "stdout",
          "text": [
            "1/1 [==============================] - 0s 260ms/step\n",
            "Layer (type)      |Rate [Hz]|Synop J/inf (cp|Synop J/inf (loih|Neuron J/inf (cp|Neuron J/inf (loih\n",
            "------------------|---------|---------------|-----------------|----------------|------------------\n",
            "input_1 (InputLaye|        1|              0|                0|               0|                 0\n",
            "conv2d (Conv2D)   |        1|        0.00041|          1.3e-09|               0|                 0\n",
            "re_lu (ReLU)      |      1.3|              0|                0|         8.3e-06|           7.8e-08\n",
            "flatten (Flatten) |     0.51|              0|                0|               0|                 0\n",
            "dense (Dense)     |     0.51|         0.0011|          1.7e-09|               0|                 0\n",
            "re_lu_1 (ReLU)    |     0.77|              0|                0|         1.1e-06|             1e-08\n",
            "dense_1 (Dense)   |     0.38|        1.1e-05|          1.3e-11|               0|                 0\n"
          ]
        }
      ],
      "source": [
        "energy = keras_spiking.ModelEnergy(model, example_data=np.ones((32, 28, 28)))\n",
        "energy.summary(\n",
        "    columns=(\n",
        "        \"name\",\n",
        "        \"rate\",\n",
        "        \"synop_energy cpu\",\n",
        "        \"synop_energy loihi\",\n",
        "        \"neuron_energy cpu\",\n",
        "        \"neuron_energy loihi\",\n",
        "    ),\n",
        "    print_warnings=False,\n",
        ")"
      ]
    },
    {
      "cell_type": "markdown",
      "metadata": {
        "id": "hY1HFsMcIpw-"
      },
      "source": [
        "We can see that if we increase the magnitude of the input (and thereby increase the\n",
        "firing rate), the energy estimate increases for the spiking device (Loihi), but not the\n",
        "CPU. Note that only the synaptic energy increases, the neuron energy is unaffected\n",
        "(since it is not dependent on input activity)."
      ]
    },
    {
      "cell_type": "code",
      "execution_count": 7,
      "metadata": {
        "id": "ZUOF8nmfIpw-",
        "outputId": "3d29d519-745e-4a6a-be1b-d18df7be5a32",
        "colab": {
          "base_uri": "https://localhost:8080/"
        }
      },
      "outputs": [
        {
          "output_type": "stream",
          "name": "stdout",
          "text": [
            "1/1 [==============================] - 0s 68ms/step\n",
            "Layer (type)      |Rate [Hz]|Synop J/inf (cp|Synop J/inf (loih|Neuron J/inf (cp|Neuron J/inf (loih\n",
            "------------------|---------|---------------|-----------------|----------------|------------------\n",
            "input_1 (InputLaye|        5|              0|                0|               0|                 0\n",
            "conv2d (Conv2D)   |        5|        0.00041|          6.4e-09|               0|                 0\n",
            "re_lu (ReLU)      |      6.5|              0|                0|         8.3e-06|           7.8e-08\n",
            "flatten (Flatten) |      2.6|              0|                0|               0|                 0\n",
            "dense (Dense)     |      2.6|         0.0011|          8.6e-09|               0|                 0\n",
            "re_lu_1 (ReLU)    |      3.9|              0|                0|         1.1e-06|             1e-08\n",
            "dense_1 (Dense)   |      1.9|        1.1e-05|          6.6e-11|               0|                 0\n"
          ]
        }
      ],
      "source": [
        "energy = keras_spiking.ModelEnergy(model, example_data=np.ones((32, 28, 28, 1)) * 5)\n",
        "energy.summary(\n",
        "    columns=(\n",
        "        \"name\",\n",
        "        \"rate\",\n",
        "        \"synop_energy cpu\",\n",
        "        \"synop_energy loihi\",\n",
        "        \"neuron_energy cpu\",\n",
        "        \"neuron_energy loihi\",\n",
        "    ),\n",
        "    print_warnings=False,\n",
        ")"
      ]
    },
    {
      "cell_type": "markdown",
      "metadata": {
        "id": "QrMgioJOIpw-"
      },
      "source": [
        "## Adding custom devices\n",
        "\n",
        "We can use ``ModelEnergy.register_device`` to add the specification for new devices,\n",
        "thereby allowing ModelEnergy to provide energy estimates for those devices. This\n",
        "function takes four parameters:\n",
        "\n",
        "- ``name``: An identifying name for the device.\n",
        "- ``energy_per_synop``: The energy (in Joules) required for one synaptic update. A\n",
        "synaptic update is the computation that occurs whenever some input is received by a\n",
        "neuron and multiplied by a weight.\n",
        "- ``energy_per_neuron``: The energy (in Joules) required for one neuron update. A neuron\n",
        "update is the computation that occurs in a neuron every timestep (regardless of whether\n",
        "or not it has received some input).\n",
        "- ``spiking``: Whether or not this is a spiking, or event-based, device. That is, do all\n",
        "synaptic updates occur every timestep (i.e. all the output of one layer is communicated\n",
        "to the next layer every timestep), or do synaptic updates only occur when a neuron in\n",
        "the input layer emits a spike?\n",
        "\n",
        "In addition to registering new devices, this can be used to modify the assumptions for\n",
        "existing devices. For example, if you think the ``gpu`` device specs are too optimistic,\n",
        "you could increase the energy estimates and see what effect that has."
      ]
    },
    {
      "cell_type": "code",
      "execution_count": 8,
      "metadata": {
        "id": "Jc7DL3IhIpw_",
        "outputId": "f974aecb-4ef4-4fb9-b04a-fa3fb1d2a997",
        "colab": {
          "base_uri": "https://localhost:8080/"
        }
      },
      "outputs": [
        {
          "output_type": "stream",
          "name": "stdout",
          "text": [
            "Layer (type)        |J/inf (gpu)|J/inf (my-gpu)\n",
            "--------------------|-----------|--------------\n",
            "input_1 (InputLayer)|          0|             0\n",
            "conv2d (Conv2D)     |    1.4e-05|       4.7e-05\n",
            "re_lu (ReLU)        |    2.9e-07|       1.9e-06\n",
            "flatten (Flatten)   |          0|             0\n",
            "dense (Dense)       |    3.7e-05|       0.00012\n",
            "re_lu_1 (ReLU)      |    3.8e-08|       2.6e-07\n",
            "dense_1 (Dense)     |    3.8e-07|       1.3e-06\n",
            "===============================================\n",
            "Total energy per inference [Joules/inf] (gpu): 5.21e-05\n",
            "Total energy per inference [Joules/inf] (my-gpu): 1.75e-04\n"
          ]
        }
      ],
      "source": [
        "keras_spiking.ModelEnergy.register_device(\n",
        "    \"my-gpu\", energy_per_synop=1e-9, energy_per_neuron=2e-9, spiking=False\n",
        ")\n",
        "energy.summary(columns=(\"name\", \"energy gpu\", \"energy my-gpu\"), print_warnings=False)"
      ]
    },
    {
      "cell_type": "markdown",
      "metadata": {
        "id": "x8rvVanzIpw_"
      },
      "source": [
        "## Temporal processing\n",
        "\n",
        "Whenever we are working with spiking models it is important to think about how time\n",
        "affects the model. For example, often when working with spiking models we need to run\n",
        "them for multiple timesteps in order to get an accurate estimate of the model's output\n",
        "(see [this\n",
        "example](https://www.nengo.ai/keras-spiking/examples/spiking-fashion-mnist.html) for\n",
        "more details). So in order to make a fair comparison between spiking and non-spiking\n",
        "devices (which only need a single timestep to compute their output), we can specify how\n",
        "many timesteps per inference we expect to run on spiking devices."
      ]
    },
    {
      "cell_type": "code",
      "execution_count": 9,
      "metadata": {
        "id": "woSxe9p3Ipw_",
        "outputId": "4ecad2e5-561f-4c58-e3e7-f22f1ef57b8b",
        "colab": {
          "base_uri": "https://localhost:8080/"
        }
      },
      "outputs": [
        {
          "output_type": "stream",
          "name": "stdout",
          "text": [
            "Layer (type)        |J/inf (cpu)|J/inf (loihi)\n",
            "--------------------|-----------|-------------\n",
            "input_1 (InputLayer)|          0|            0\n",
            "conv2d (Conv2D)     |    0.00041|      6.4e-08\n",
            "re_lu (ReLU)        |    8.3e-06|      7.8e-07\n",
            "flatten (Flatten)   |          0|            0\n",
            "dense (Dense)       |     0.0011|      8.6e-08\n",
            "re_lu_1 (ReLU)      |    1.1e-06|        1e-07\n",
            "dense_1 (Dense)     |    1.1e-05|      6.6e-10\n",
            "==============================================\n",
            "Total energy per inference [Joules/inf] (cpu): 1.49e-03\n",
            "Total energy per inference [Joules/inf] (loihi): 1.04e-06\n"
          ]
        }
      ],
      "source": [
        "energy.summary(\n",
        "    columns=(\"name\", \"energy cpu\", \"energy loihi\"),\n",
        "    timesteps_per_inference=10,\n",
        "    print_warnings=False,\n",
        ")"
      ]
    },
    {
      "cell_type": "markdown",
      "metadata": {
        "id": "ZLX3WH38Ipw_"
      },
      "source": [
        "Note that if we use more timesteps per inference that increases the energy estimate for\n",
        "the spiking device, but not the non-spiking:"
      ]
    },
    {
      "cell_type": "code",
      "execution_count": 10,
      "metadata": {
        "id": "X_MXxF2UIpw_",
        "outputId": "aff1c238-bd0c-482d-ff92-5249a3c7b050",
        "colab": {
          "base_uri": "https://localhost:8080/"
        }
      },
      "outputs": [
        {
          "output_type": "stream",
          "name": "stdout",
          "text": [
            "Layer (type)        |J/inf (cpu)|J/inf (loihi)\n",
            "--------------------|-----------|-------------\n",
            "input_1 (InputLayer)|          0|            0\n",
            "conv2d (Conv2D)     |    0.00041|      1.3e-07\n",
            "re_lu (ReLU)        |    8.3e-06|      1.6e-06\n",
            "flatten (Flatten)   |          0|            0\n",
            "dense (Dense)       |     0.0011|      1.7e-07\n",
            "re_lu_1 (ReLU)      |    1.1e-06|      2.1e-07\n",
            "dense_1 (Dense)     |    1.1e-05|      1.3e-09\n",
            "==============================================\n",
            "Total energy per inference [Joules/inf] (cpu): 1.49e-03\n",
            "Total energy per inference [Joules/inf] (loihi): 2.08e-06\n"
          ]
        }
      ],
      "source": [
        "energy.summary(\n",
        "    columns=(\"name\", \"energy cpu\", \"energy loihi\"),\n",
        "    timesteps_per_inference=20,\n",
        "    print_warnings=False,\n",
        ")"
      ]
    },
    {
      "cell_type": "markdown",
      "metadata": {
        "id": "R_oY7rIGIpxA"
      },
      "source": [
        "We also need to consider the simulation timestep, ``dt``, being used in each of those\n",
        "inference timesteps. This will affect the number of spike events observed, since longer\n",
        "timesteps will result in more spikes (the number of spikes is proportional to\n",
        "``firing_rate*timesteps_per_inference*dt``). Note that the ``dt`` used on the device\n",
        "could be different than the ``dt`` used when training/running the model in KerasSpiking.\n",
        "However, it will default to the same value as ``keras_spiking.default.dt``."
      ]
    },
    {
      "cell_type": "code",
      "execution_count": 11,
      "metadata": {
        "id": "2697dLGdIpxA",
        "outputId": "e6c8a255-b7d8-4dcd-fcbd-ca83fc6c0cb3",
        "colab": {
          "base_uri": "https://localhost:8080/"
        }
      },
      "outputs": [
        {
          "output_type": "stream",
          "name": "stdout",
          "text": [
            "Layer (type)        |J/inf (cpu)|J/inf (loihi)\n",
            "--------------------|-----------|-------------\n",
            "input_1 (InputLayer)|          0|            0\n",
            "conv2d (Conv2D)     |    0.00041|      6.4e-09\n",
            "re_lu (ReLU)        |    8.3e-06|      7.8e-08\n",
            "flatten (Flatten)   |          0|            0\n",
            "dense (Dense)       |     0.0011|      8.6e-09\n",
            "re_lu_1 (ReLU)      |    1.1e-06|        1e-08\n",
            "dense_1 (Dense)     |    1.1e-05|      6.6e-11\n",
            "==============================================\n",
            "Total energy per inference [Joules/inf] (cpu): 1.49e-03\n",
            "Total energy per inference [Joules/inf] (loihi): 1.04e-07\n"
          ]
        }
      ],
      "source": [
        "energy.summary(\n",
        "    columns=(\"name\", \"energy cpu\", \"energy loihi\"), dt=0.001, print_warnings=False\n",
        ")"
      ]
    },
    {
      "cell_type": "code",
      "execution_count": 12,
      "metadata": {
        "id": "H9QmqZB5IpxA",
        "outputId": "c7cc6c8a-dc69-407d-d4d2-c0d76ce716ad",
        "colab": {
          "base_uri": "https://localhost:8080/"
        }
      },
      "outputs": [
        {
          "output_type": "stream",
          "name": "stdout",
          "text": [
            "Layer (type)        |J/inf (cpu)|J/inf (loihi)\n",
            "--------------------|-----------|-------------\n",
            "input_1 (InputLayer)|          0|            0\n",
            "conv2d (Conv2D)     |    0.00041|      1.3e-08\n",
            "re_lu (ReLU)        |    8.3e-06|      7.8e-08\n",
            "flatten (Flatten)   |          0|            0\n",
            "dense (Dense)       |     0.0011|      1.7e-08\n",
            "re_lu_1 (ReLU)      |    1.1e-06|        1e-08\n",
            "dense_1 (Dense)     |    1.1e-05|      1.3e-10\n",
            "==============================================\n",
            "Total energy per inference [Joules/inf] (cpu): 1.49e-03\n",
            "Total energy per inference [Joules/inf] (loihi): 1.19e-07\n"
          ]
        }
      ],
      "source": [
        "energy.summary(\n",
        "    columns=(\"name\", \"energy cpu\", \"energy loihi\"), dt=0.002, print_warnings=False\n",
        ")"
      ]
    },
    {
      "cell_type": "markdown",
      "metadata": {
        "id": "my1AZXbyIpxA"
      },
      "source": [
        "We can see that increasing ``dt`` increases the energy estimate on the spiking device,\n",
        "but not the non-spiking (since the output of a non-spiking neuron is not affected by\n",
        "``dt``). Note that increasing ``dt`` is not exactly equivalent to increasing\n",
        "``timesteps_per_inference``, because ``dt`` only increases the number of synaptic\n",
        "updates, it leaves the number of neuron updates unchanged."
      ]
    },
    {
      "cell_type": "markdown",
      "metadata": {
        "id": "cx51bTB7IpxB"
      },
      "source": [
        "One final factor to keep in mind regarding temporal models is how time is represented in\n",
        "the Keras model itself. The above models did not have a temporal component, they were\n",
        "simply a single-step feedforward model. ModelEnergy assumes that a non-temporal model\n",
        "represents the computations that will be performed each timestep on a spiking device.\n",
        "But we can also directly define a Keras model that operates over time, which gives us\n",
        "more control over how time is represented. For example, this is equivalent to our\n",
        "original model definition above, but we have added a time dimension:"
      ]
    },
    {
      "cell_type": "code",
      "execution_count": null,
      "metadata": {
        "id": "2-ua3YFNIpxB"
      },
      "outputs": [],
      "source": [
        "# add a new input dimension (None) representing\n",
        "# temporal data of unknown length\n",
        "inp = x = tf.keras.Input((None, 28, 28, 1))\n",
        "# the TimeDistributed wrapper can be used to apply\n",
        "# non-temporal layers to temporal inputs\n",
        "x = tf.keras.layers.TimeDistributed(\n",
        "    tf.keras.layers.Conv2D(filters=2, kernel_size=(7, 7))\n",
        ")(x)\n",
        "x = tf.keras.layers.ReLU()(x)\n",
        "x = tf.keras.layers.TimeDistributed(tf.keras.layers.Flatten())(x)\n",
        "# some layers, like Dense, can operate on temporal data\n",
        "# without requiring a TimeDistributed wrapper\n",
        "x = tf.keras.layers.Dense(units=128)(x)\n",
        "x = tf.keras.layers.ReLU()(x)\n",
        "x = tf.keras.layers.Dense(units=10)(x)\n",
        "\n",
        "temporal_model = tf.keras.Model(inp, x)\n",
        "temporal_model.summary()"
      ]
    },
    {
      "cell_type": "markdown",
      "metadata": {
        "id": "TMUA0Fn9IpxB"
      },
      "source": [
        "If we compare the energy estimates of the temporal and non-temporal models we can see\n",
        "that they are the same,\n",
        "because KerasSpiking is automatically assuming that the non-temporal model will be\n",
        "translated into a temporal model:"
      ]
    },
    {
      "cell_type": "code",
      "execution_count": null,
      "metadata": {
        "id": "jCrg2DVBIpxB"
      },
      "outputs": [],
      "source": [
        "energy = keras_spiking.ModelEnergy(model, example_data=np.ones((32, 28, 28, 1)))\n",
        "energy.summary(\n",
        "    columns=(\"name\", \"energy cpu\", \"energy loihi\"),\n",
        "    timesteps_per_inference=10,\n",
        "    print_warnings=False,\n",
        ")"
      ]
    },
    {
      "cell_type": "code",
      "execution_count": null,
      "metadata": {
        "id": "fD3VP6VEIpxB"
      },
      "outputs": [],
      "source": [
        "# note that we add a temporal dimension to our example data (which does not need to be\n",
        "# the same length as timesteps_per_inference)\n",
        "energy = keras_spiking.ModelEnergy(\n",
        "    temporal_model, example_data=np.ones((32, 5, 28, 28, 1))\n",
        ")\n",
        "energy.summary(\n",
        "    columns=(\"name\", \"energy cpu\", \"energy loihi\"),\n",
        "    timesteps_per_inference=10,\n",
        "    print_warnings=False,\n",
        ")"
      ]
    },
    {
      "cell_type": "markdown",
      "metadata": {
        "id": "B7mUtrwiIpxC"
      },
      "source": [
        "In the above example the model was assumed to be temporal because it had `None`\n",
        "as the shape of the first (non-batch) axis. However, in some cases the Keras\n",
        "model definition can be ambiguous as to whether it represents a temporal or\n",
        "non-temporal model.\n",
        "\n",
        "For example, consider the following model:"
      ]
    },
    {
      "cell_type": "code",
      "execution_count": null,
      "metadata": {
        "id": "wMBqehOzIpxC"
      },
      "outputs": [],
      "source": [
        "inp = tf.keras.Input((28, 28))\n",
        "x = tf.keras.layers.ReLU()(inp)\n",
        "model = tf.keras.Model(inp, x)\n",
        "model.summary()"
      ]
    },
    {
      "cell_type": "markdown",
      "metadata": {
        "id": "_uKXtb5QIpxC"
      },
      "source": [
        "Is this a temporal model, with 28 neurons being applied for 28 timesteps? Or is it a\n",
        "non-temporal model, with 784 neurons being applied to a 28x28 2D input? The definition\n",
        "is ambiguous, so ``ModelEnergy`` will assume that this is a non-temporal model:"
      ]
    },
    {
      "cell_type": "code",
      "execution_count": null,
      "metadata": {
        "id": "Xkt7tOdfIpxC"
      },
      "outputs": [],
      "source": [
        "energy = keras_spiking.ModelEnergy(model)\n",
        "energy.summary(\n",
        "    columns=(\"name\", \"output_shape\", \"neurons\", \"energy cpu\"), print_warnings=False\n",
        ")"
      ]
    },
    {
      "cell_type": "markdown",
      "metadata": {
        "id": "nBbtWfJTIpxC"
      },
      "source": [
        "You can signal to ``ModelEnergy`` that the ReLU layer should be considered temporal by\n",
        "wrapping it in a ``TimeDistributed`` layer:"
      ]
    },
    {
      "cell_type": "code",
      "execution_count": null,
      "metadata": {
        "id": "b_cprQbiIpxC"
      },
      "outputs": [],
      "source": [
        "inp = tf.keras.Input((28, 28))\n",
        "x = tf.keras.layers.TimeDistributed(tf.keras.layers.ReLU())(inp)\n",
        "model = tf.keras.Model(inp, x)\n",
        "\n",
        "energy = keras_spiking.ModelEnergy(model)\n",
        "energy.summary(\n",
        "    columns=(\"name\", \"output_shape\", \"neurons\", \"energy cpu\"), print_warnings=False\n",
        ")"
      ]
    },
    {
      "cell_type": "markdown",
      "metadata": {
        "id": "rxbBnSXbIpxD"
      },
      "source": [
        "Alternatively, we could have changed the shape of the first dimension to `None`, in\n",
        "which case ModelEnergy will assume that that dimension represents time, without the\n",
        "need for a TimeDistributed wrapper."
      ]
    },
    {
      "cell_type": "code",
      "execution_count": null,
      "metadata": {
        "id": "SaTea5XdIpxF"
      },
      "outputs": [],
      "source": [
        "inp = tf.keras.Input((None, 28))\n",
        "x = tf.keras.layers.ReLU()(inp)\n",
        "model = tf.keras.Model(inp, x)\n",
        "\n",
        "energy = keras_spiking.ModelEnergy(model)\n",
        "energy.summary(\n",
        "    columns=(\"name\", \"output_shape\", \"neurons\", \"energy cpu\"), print_warnings=False\n",
        ")"
      ]
    },
    {
      "cell_type": "markdown",
      "metadata": {
        "id": "y1WwlbpQIpxF"
      },
      "source": [
        "## Using SpikingActivation layers\n",
        "\n",
        "You may have noticed above that we have been silencing some warnings. Let's see what\n",
        "those warnings are:"
      ]
    },
    {
      "cell_type": "code",
      "execution_count": null,
      "metadata": {
        "id": "wtHESdrXIpxF"
      },
      "outputs": [],
      "source": [
        "inp = tf.keras.Input((None, 32))\n",
        "x = tf.keras.layers.Dense(units=64)(inp)\n",
        "x = tf.keras.layers.ReLU()(x)\n",
        "model = tf.keras.Model(inp, x)\n",
        "\n",
        "energy = keras_spiking.ModelEnergy(model, example_data=np.ones((8, 10, 32)))\n",
        "energy.summary(columns=(\"name\", \"output_shape\", \"energy loihi\"), print_warnings=True)"
      ]
    },
    {
      "cell_type": "markdown",
      "metadata": {
        "id": "WJtlydn5IpxF"
      },
      "source": [
        "The first warning highlights that these energy estimates are highly dependent on certain\n",
        "assumptions being made (which we [discussed above](#Assumptions)).\n",
        "\n",
        "The second warning is due to the fact that we are estimating energy on a spiking device\n",
        "but our model contains non-spiking activation functions (ReLU). When estimating energy\n",
        "on spiking devices we assume that neurons will be outputting spikes (in order to compute\n",
        "the number of synaptic updates that need to occur). But if we were to directly map this\n",
        "model to a spiking device 1) that may not even be possible, many spiking devices can\n",
        "_only_ simulating spiking neurons, and 2) these neurons would be triggering synaptic\n",
        "updates on every timestep, not at the rates displayed above.\n",
        "\n",
        "In order to provide a useful estimate for spiking devices, we assume that any\n",
        "non-spiking neurons will be converted to spiking neurons when the model is mapped to the\n",
        "device. However, that may not be a safe assumption; it is better to be explicit and\n",
        "directly convert the Keras model to a spiking one using\n",
        "``keras_spiking.SpikingActivation``:"
      ]
    },
    {
      "cell_type": "code",
      "execution_count": null,
      "metadata": {
        "id": "KOSYR4zxIpxG"
      },
      "outputs": [],
      "source": [
        "inp = tf.keras.Input((None, 32))\n",
        "x = tf.keras.layers.Dense(units=64)(inp)\n",
        "x = keras_spiking.SpikingActivation(\"relu\")(x)\n",
        "model = tf.keras.Model(inp, x)\n",
        "\n",
        "energy = keras_spiking.ModelEnergy(model, example_data=np.ones((8, 10, 32)))\n",
        "energy.summary(columns=(\"name\", \"output_shape\", \"energy loihi\"))"
      ]
    },
    {
      "cell_type": "markdown",
      "metadata": {
        "id": "zUoPhXO4IpxQ"
      },
      "source": [
        "## Deploying to real devices\n",
        "\n",
        "Once we've gotten an idea what the energy usage might be for our model on different\n",
        "devices, we likely want to actually deploy our model on one of those devices and see how\n",
        "it performs in the real world. For this we can use [Nengo](https://www.nengo.ai), which\n",
        "provides a suite of tools for running neural models on different hardware platforms.\n",
        "\n",
        "For example, suppose we would like to run the above model on Loihi.  First, we can use\n",
        "the NengoDL converter to automatically convert our Keras model to a Nengo model:"
      ]
    },
    {
      "cell_type": "code",
      "execution_count": null,
      "metadata": {
        "id": "T1yyMCnFIpxR"
      },
      "outputs": [],
      "source": [
        "# pylint: disable=wrong-import-order\n",
        "\n",
        "import nengo_dl\n",
        "import nengo_loihi\n",
        "\n",
        "converter = nengo_dl.Converter(model, temporal_model=True, inference_only=True)"
      ]
    },
    {
      "cell_type": "markdown",
      "metadata": {
        "id": "beK-t6RnIpxR"
      },
      "source": [
        "The advantage of the Nengo ecosystem is that once we have a Nengo model, we can run that\n",
        "model on any Nengo-supported hardware platform. For example, if we would like to run on\n",
        "Loihi, we just create a `nengo_loihi.Simulator` and run our model:"
      ]
    },
    {
      "cell_type": "code",
      "execution_count": null,
      "metadata": {
        "id": "RE5CepbwIpxR"
      },
      "outputs": [],
      "source": [
        "with nengo_loihi.Simulator(converter.net) as sim:\n",
        "    sim.run_steps(10)\n",
        "\n",
        "print(sim.data[converter.outputs[model.output]].shape)"
      ]
    },
    {
      "cell_type": "markdown",
      "metadata": {
        "id": "VelHZuf3IpxR"
      },
      "source": [
        "Since we don't have an actual Loihi board hooked up here this is just running in an\n",
        "emulator, but if we had a physical board attached the code would be the same (and\n",
        "NengoLoihi would automatically use the board). And that's all that would be required to\n",
        "deploy your model to a spiking device, and start seeing how it performs in the real\n",
        "world!"
      ]
    },
    {
      "cell_type": "markdown",
      "metadata": {
        "id": "qq_c4swtIpxR"
      },
      "source": [
        "## Summary\n",
        "\n",
        "We can use ``ModelEnergy`` to estimate the energy usage of a Keras model on different\n",
        "hardware platforms. We have looked at the various parameters of these estimates (example\n",
        "data, device specifications, the number of timesteps per inference, and the hardware\n",
        "simulation timestep), as well as how we can customize the input Keras model in different\n",
        "ways (adding temporal features or SpikingActivation layers).\n",
        "\n",
        "As we mentioned at the start, it is important to keep in mind that these numbers are\n",
        "only rough estimates; actual energy usage will be heavily dependent on the details of\n",
        "the hardware and software implementation when mapping your model to a physical device.\n",
        "\n",
        "After you have explored different options using ModelEnergy, you will likely want to\n",
        "actually deploy your model on one of these devices to see how it performs in the real\n",
        "world. This is where the Nengo ecosystem can be very helpful, as it allows you to run a\n",
        "neuron model on any Nengo-supported platform (non-spiking devices like standard CPUs and\n",
        "GPUs, or spiking devices like Loihi or SpiNNaker). You can use the [NengoDL\n",
        "Converter](https://www.nengo.ai/nengo-dl/converter.html) to automatically convert a\n",
        "Keras model (including KerasSpiking) to a Nengo network, and then you can use any Nengo\n",
        "backend (e.g. [NengoDL](https://www.nengo.ai/nengo-dl),\n",
        "[NengoOCL](https://labs.nengo.ai/nengo-ocl), or\n",
        "[NengoLoihi](https://www.nengo.ai/nengo-loihi)) to run that network on different\n",
        "hardware platforms. See [this\n",
        "example](https://www.nengo.ai/nengo-loihi/examples/keras-to-loihi.html) for an\n",
        "end-to-end walkthrough of deploying a Keras model to Loihi."
      ]
    }
  ],
  "metadata": {
    "language_info": {
      "name": "python"
    },
    "colab": {
      "provenance": []
    },
    "kernelspec": {
      "name": "python3",
      "display_name": "Python 3"
    }
  },
  "nbformat": 4,
  "nbformat_minor": 0
}